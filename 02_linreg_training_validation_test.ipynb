{
 "cells": [
  {
   "cell_type": "markdown",
   "id": "0072cf56",
   "metadata": {},
   "source": [
    "## Bibliotecas"
   ]
  },
  {
   "cell_type": "code",
   "execution_count": 68,
   "id": "90b030c6",
   "metadata": {},
   "outputs": [],
   "source": [
    "import pandas as pd\n",
    "import numpy as np\n",
    "import matplotlib.pyplot as plt"
   ]
  },
  {
   "cell_type": "markdown",
   "id": "01351e2e",
   "metadata": {},
   "source": [
    "## Importando o dataset"
   ]
  },
  {
   "cell_type": "code",
   "execution_count": 69,
   "id": "f4081727",
   "metadata": {},
   "outputs": [],
   "source": [
    "data = pd.read_csv('adm_data.csv')\n",
    "data.rename(columns = {'Chance of Admit ': 'Chance of Admit'}, inplace = True)\n",
    "data.rename(columns = {'LOR ': 'LOR'}, inplace = True)"
   ]
  },
  {
   "cell_type": "code",
   "execution_count": 70,
   "id": "daffc0a9",
   "metadata": {
    "scrolled": true
   },
   "outputs": [
    {
     "data": {
      "text/html": [
       "<div>\n",
       "<style scoped>\n",
       "    .dataframe tbody tr th:only-of-type {\n",
       "        vertical-align: middle;\n",
       "    }\n",
       "\n",
       "    .dataframe tbody tr th {\n",
       "        vertical-align: top;\n",
       "    }\n",
       "\n",
       "    .dataframe thead th {\n",
       "        text-align: right;\n",
       "    }\n",
       "</style>\n",
       "<table border=\"1\" class=\"dataframe\">\n",
       "  <thead>\n",
       "    <tr style=\"text-align: right;\">\n",
       "      <th></th>\n",
       "      <th>Serial No.</th>\n",
       "      <th>GRE Score</th>\n",
       "      <th>TOEFL Score</th>\n",
       "      <th>University Rating</th>\n",
       "      <th>SOP</th>\n",
       "      <th>LOR</th>\n",
       "      <th>CGPA</th>\n",
       "      <th>Research</th>\n",
       "      <th>Chance of Admit</th>\n",
       "    </tr>\n",
       "  </thead>\n",
       "  <tbody>\n",
       "    <tr>\n",
       "      <th>0</th>\n",
       "      <td>1</td>\n",
       "      <td>337</td>\n",
       "      <td>118</td>\n",
       "      <td>4</td>\n",
       "      <td>4.5</td>\n",
       "      <td>4.5</td>\n",
       "      <td>9.65</td>\n",
       "      <td>1</td>\n",
       "      <td>0.92</td>\n",
       "    </tr>\n",
       "    <tr>\n",
       "      <th>1</th>\n",
       "      <td>2</td>\n",
       "      <td>324</td>\n",
       "      <td>107</td>\n",
       "      <td>4</td>\n",
       "      <td>4.0</td>\n",
       "      <td>4.5</td>\n",
       "      <td>8.87</td>\n",
       "      <td>1</td>\n",
       "      <td>0.76</td>\n",
       "    </tr>\n",
       "    <tr>\n",
       "      <th>2</th>\n",
       "      <td>3</td>\n",
       "      <td>316</td>\n",
       "      <td>104</td>\n",
       "      <td>3</td>\n",
       "      <td>3.0</td>\n",
       "      <td>3.5</td>\n",
       "      <td>8.00</td>\n",
       "      <td>1</td>\n",
       "      <td>0.72</td>\n",
       "    </tr>\n",
       "    <tr>\n",
       "      <th>3</th>\n",
       "      <td>4</td>\n",
       "      <td>322</td>\n",
       "      <td>110</td>\n",
       "      <td>3</td>\n",
       "      <td>3.5</td>\n",
       "      <td>2.5</td>\n",
       "      <td>8.67</td>\n",
       "      <td>1</td>\n",
       "      <td>0.80</td>\n",
       "    </tr>\n",
       "    <tr>\n",
       "      <th>4</th>\n",
       "      <td>5</td>\n",
       "      <td>314</td>\n",
       "      <td>103</td>\n",
       "      <td>2</td>\n",
       "      <td>2.0</td>\n",
       "      <td>3.0</td>\n",
       "      <td>8.21</td>\n",
       "      <td>0</td>\n",
       "      <td>0.65</td>\n",
       "    </tr>\n",
       "  </tbody>\n",
       "</table>\n",
       "</div>"
      ],
      "text/plain": [
       "   Serial No.  GRE Score  TOEFL Score  University Rating  SOP  LOR  CGPA  \\\n",
       "0           1        337          118                  4  4.5  4.5  9.65   \n",
       "1           2        324          107                  4  4.0  4.5  8.87   \n",
       "2           3        316          104                  3  3.0  3.5  8.00   \n",
       "3           4        322          110                  3  3.5  2.5  8.67   \n",
       "4           5        314          103                  2  2.0  3.0  8.21   \n",
       "\n",
       "   Research  Chance of Admit  \n",
       "0         1             0.92  \n",
       "1         1             0.76  \n",
       "2         1             0.72  \n",
       "3         1             0.80  \n",
       "4         0             0.65  "
      ]
     },
     "execution_count": 70,
     "metadata": {},
     "output_type": "execute_result"
    }
   ],
   "source": [
    "data.head()"
   ]
  },
  {
   "cell_type": "code",
   "execution_count": 71,
   "id": "5ce0b8a3",
   "metadata": {},
   "outputs": [],
   "source": [
    "features = ['GRE Score', 'TOEFL Score', 'University Rating', 'SOP', 'LOR', 'CGPA', 'Research']\n",
    "label = 'Chance of Admit'"
   ]
  },
  {
   "cell_type": "markdown",
   "id": "793c2ff1",
   "metadata": {},
   "source": [
    "### Correlação dos dados com a chance de admissão"
   ]
  },
  {
   "cell_type": "code",
   "execution_count": 72,
   "id": "878a9051",
   "metadata": {
    "scrolled": true
   },
   "outputs": [
    {
     "data": {
      "text/plain": [
       "Serial No.           0.042336\n",
       "GRE Score            0.802610\n",
       "TOEFL Score          0.791594\n",
       "University Rating    0.711250\n",
       "SOP                  0.675732\n",
       "LOR                  0.669889\n",
       "CGPA                 0.873289\n",
       "Research             0.553202\n",
       "Chance of Admit      1.000000\n",
       "Name: Chance of Admit, dtype: float64"
      ]
     },
     "execution_count": 72,
     "metadata": {},
     "output_type": "execute_result"
    }
   ],
   "source": [
    "data.corr()['Chance of Admit']"
   ]
  },
  {
   "cell_type": "markdown",
   "id": "9295fff8",
   "metadata": {},
   "source": [
    "Temos, de fato, dados altamente correlacionados com a chance de admissão dos estudantes nas universidades escolhidas."
   ]
  },
  {
   "cell_type": "markdown",
   "id": "3b275618",
   "metadata": {},
   "source": [
    "## Modelo de Regressão Linear Anteriormente Implementado"
   ]
  },
  {
   "cell_type": "code",
   "execution_count": 73,
   "id": "7a89f121",
   "metadata": {},
   "outputs": [],
   "source": [
    "class Linear_Regression_Model():\n",
    "    def __init__(self, features, label, ws: list,\n",
    "                 b = 0, alpha = 0.1, random_state = 0):\n",
    "        self.features = features\n",
    "        self.label = label\n",
    "        for i in range(0, len(ws)):\n",
    "            ws[i] = float(ws[i])\n",
    "        self.ws = np.array(ws) # weights\n",
    "        self.b = b\n",
    "        self.alpha = alpha\n",
    "        self.rand = np.random.RandomState(random_state)\n",
    "        \n",
    "    def print_parameters(self):\n",
    "        for i in range(1, len(self.ws) + 1):\n",
    "            print(f'w{i} = {self.ws[i - 1]}')\n",
    "        print (f'b = {self.b}')\n",
    "        \n",
    "    def get_single_prediction(self, xs: list):\n",
    "        '''Get the prediction for a list with all the features' values.'''\n",
    "        for i in range(0, len(xs)):\n",
    "            xs[i] = float(xs[i])\n",
    "        xs = np.array(xs)\n",
    "        pred = np.dot(self.ws, xs) + self.b\n",
    "        return pred\n",
    "    \n",
    "    def predict(self, X_test):\n",
    "        n = len(X_test)\n",
    "        X_test_copy = X_test.copy()\n",
    "        X_test_copy.reset_index(inplace = True, drop = True)\n",
    "        k = 0\n",
    "        w_cols = []\n",
    "        for col in X_test_copy.columns:\n",
    "            X_test_copy.loc[0:n-1, f'weighted_{col}'] = self.ws[k]*X_test_copy[col]\n",
    "            w_cols.append(f'weighted_{col}')\n",
    "            k += 1\n",
    "        X_test_copy['Dot'] = X_test_copy[w_cols].sum(axis = 1)\n",
    "        X_test_copy['Predictions'] = X_test_copy['Dot'] + self.b\n",
    "        predictions = np.array(X_test_copy['Predictions'])\n",
    "        return predictions\n",
    "    \n",
    "    def get_loss(self, X_test, y_test):\n",
    "        n = len(data)\n",
    "        predictions = self.predict(X_test)\n",
    "        diff = predictions - y_test\n",
    "        loss = (1/n)*np.dot(diff, diff)\n",
    "        return loss\n",
    "               \n",
    "    def sgd_update_parameters(self, batch_size: int):\n",
    "        n = len(self.label)\n",
    "        index_list = list(range(0, n))\n",
    "        random_indices = self.rand.choice(index_list, size = batch_size, replace = True) # bootstrap sample\n",
    "        xs_sample = list()\n",
    "        y_sample = np.array(self.label.iloc[random_indices])\n",
    "        preds_sample = np.zeros(batch_size)\n",
    "        for i in range(0, batch_size):\n",
    "            xs = list(self.features.iloc[random_indices[i]])\n",
    "            preds_sample[i] += self.get_single_prediction(xs)\n",
    "        for col in self.features:\n",
    "            xs_sample.append(np.array(self.features[col].iloc[random_indices])) # len(xs_sample) = len(self.ws)\n",
    "        diff_sample = preds_sample - y_sample\n",
    "        partial_w = np.zeros(len(self.ws))\n",
    "        for i in range(0, len(self.ws)):\n",
    "            partial_w[i] += (2/batch_size) * np.dot(diff_sample, xs_sample[i])\n",
    "        partial_b = (2/batch_size) * np.sum(diff_sample)\n",
    "        self.ws -= self.alpha * partial_w\n",
    "        self.b -= self.alpha * partial_b\n",
    "        \n",
    "    def sgd(self, iterations: int, batch_size: float, print_loss: bool): # stochastic gradient descent\n",
    "        for i in range(0, iterations):\n",
    "            self.sgd_update_parameters(batch_size)\n",
    "            if print_loss:\n",
    "                print(f'loss = {self.get_loss(self.train_data)}')\n",
    "    \n",
    "    @staticmethod\n",
    "    def shuffle_data(data, random_state):\n",
    "        rand = np.random.RandomState(random_state)\n",
    "        return data.reindex(rand.permutation(data.index))\n",
    "    \n",
    "    @staticmethod\n",
    "    def train_val_test_split(X, y, test_split: float, val_split: float):\n",
    "        '''Get train, validation and test dataframes from data.'''\n",
    "        n = len(data)\n",
    "        test_size = int(test_split * n)\n",
    "        val_size = int(val_split * n)\n",
    "        X_test = X.iloc[list(range(0, test_size))]\n",
    "        y_test = y.iloc[list(range(0, test_size))]\n",
    "        X_val = X.iloc[list(range(test_size, test_size + val_size))]\n",
    "        y_val = y.iloc[list(range(test_size, test_size + val_size))]\n",
    "        X_train = X.iloc[list(range(test_size + val_size, n))]\n",
    "        y_train = y.iloc[list(range(test_size + val_size, n))]\n",
    "        return X_test, y_test, X_val, y_val, X_train, y_train"
   ]
  },
  {
   "cell_type": "markdown",
   "id": "e449da34",
   "metadata": {},
   "source": [
    "## Treinamento, Validação e Teste"
   ]
  },
  {
   "cell_type": "markdown",
   "id": "73c8b491",
   "metadata": {},
   "source": [
    "Vamos treinar o modelo no dataset que temos. Para tal, iremos dividir o dataframe 'data' em três partes: training, validation e test. A primeira parte será utilizada para o treinamento do modelo; a segunda, para validar o modelo em um conjunto de dados diferentes daqueles usados no treinamento e, se necessário, para corrigir os parâmetros do modelo; e a terceira será utilizada como uma forma de teste final para o modelo, evitando o overfitting nos dados de validação."
   ]
  },
  {
   "cell_type": "markdown",
   "id": "a4772bfe",
   "metadata": {},
   "source": [
    "### Função para separar os dados em treinamento, validação e teste"
   ]
  },
  {
   "cell_type": "markdown",
   "id": "909b6c67",
   "metadata": {},
   "source": [
    "Tal função está implementada dentro da classe Linear_Regression_Model, juntamente da função shuffle_data, utilizada para embaralhar os dados no dataframe."
   ]
  },
  {
   "cell_type": "markdown",
   "id": "2a08bf9c",
   "metadata": {},
   "source": [
    "#### Shuffling"
   ]
  },
  {
   "cell_type": "code",
   "execution_count": 74,
   "id": "ba330a32",
   "metadata": {},
   "outputs": [],
   "source": [
    "random_state = 0\n",
    "data_shuffled = Linear_Regression_Model.shuffle_data(data, random_state = random_state)"
   ]
  },
  {
   "cell_type": "markdown",
   "id": "cd005f5b",
   "metadata": {},
   "source": [
    "#### Split"
   ]
  },
  {
   "cell_type": "code",
   "execution_count": 75,
   "id": "e07e6577",
   "metadata": {},
   "outputs": [],
   "source": [
    "X = data_shuffled[features]\n",
    "y = data_shuffled[label]"
   ]
  },
  {
   "cell_type": "code",
   "execution_count": 76,
   "id": "bc7b8666",
   "metadata": {},
   "outputs": [],
   "source": [
    "X_test, y_test, X_val, y_val, X_train, y_train = Linear_Regression_Model.train_val_test_split(X, y, test_split = 0.2, val_split = 0.2)"
   ]
  },
  {
   "cell_type": "code",
   "execution_count": 77,
   "id": "755d5b19",
   "metadata": {
    "scrolled": false
   },
   "outputs": [
    {
     "data": {
      "text/html": [
       "<div>\n",
       "<style scoped>\n",
       "    .dataframe tbody tr th:only-of-type {\n",
       "        vertical-align: middle;\n",
       "    }\n",
       "\n",
       "    .dataframe tbody tr th {\n",
       "        vertical-align: top;\n",
       "    }\n",
       "\n",
       "    .dataframe thead th {\n",
       "        text-align: right;\n",
       "    }\n",
       "</style>\n",
       "<table border=\"1\" class=\"dataframe\">\n",
       "  <thead>\n",
       "    <tr style=\"text-align: right;\">\n",
       "      <th></th>\n",
       "      <th>GRE Score</th>\n",
       "      <th>TOEFL Score</th>\n",
       "      <th>University Rating</th>\n",
       "      <th>SOP</th>\n",
       "      <th>LOR</th>\n",
       "      <th>CGPA</th>\n",
       "      <th>Research</th>\n",
       "    </tr>\n",
       "  </thead>\n",
       "  <tbody>\n",
       "    <tr>\n",
       "      <th>281</th>\n",
       "      <td>317</td>\n",
       "      <td>110</td>\n",
       "      <td>3</td>\n",
       "      <td>4.0</td>\n",
       "      <td>4.5</td>\n",
       "      <td>9.11</td>\n",
       "      <td>1</td>\n",
       "    </tr>\n",
       "    <tr>\n",
       "      <th>133</th>\n",
       "      <td>323</td>\n",
       "      <td>112</td>\n",
       "      <td>5</td>\n",
       "      <td>4.0</td>\n",
       "      <td>4.5</td>\n",
       "      <td>8.78</td>\n",
       "      <td>0</td>\n",
       "    </tr>\n",
       "    <tr>\n",
       "      <th>33</th>\n",
       "      <td>340</td>\n",
       "      <td>114</td>\n",
       "      <td>5</td>\n",
       "      <td>4.0</td>\n",
       "      <td>4.0</td>\n",
       "      <td>9.60</td>\n",
       "      <td>1</td>\n",
       "    </tr>\n",
       "    <tr>\n",
       "      <th>378</th>\n",
       "      <td>303</td>\n",
       "      <td>98</td>\n",
       "      <td>1</td>\n",
       "      <td>2.0</td>\n",
       "      <td>2.5</td>\n",
       "      <td>7.65</td>\n",
       "      <td>0</td>\n",
       "    </tr>\n",
       "    <tr>\n",
       "      <th>162</th>\n",
       "      <td>318</td>\n",
       "      <td>109</td>\n",
       "      <td>3</td>\n",
       "      <td>3.0</td>\n",
       "      <td>3.0</td>\n",
       "      <td>8.50</td>\n",
       "      <td>0</td>\n",
       "    </tr>\n",
       "  </tbody>\n",
       "</table>\n",
       "</div>"
      ],
      "text/plain": [
       "     GRE Score  TOEFL Score  University Rating  SOP  LOR  CGPA  Research\n",
       "281        317          110                  3  4.0  4.5  9.11         1\n",
       "133        323          112                  5  4.0  4.5  8.78         0\n",
       "33         340          114                  5  4.0  4.0  9.60         1\n",
       "378        303           98                  1  2.0  2.5  7.65         0\n",
       "162        318          109                  3  3.0  3.0  8.50         0"
      ]
     },
     "execution_count": 77,
     "metadata": {},
     "output_type": "execute_result"
    }
   ],
   "source": [
    "X_train.head()"
   ]
  },
  {
   "cell_type": "code",
   "execution_count": 78,
   "id": "3907f92e",
   "metadata": {
    "scrolled": true
   },
   "outputs": [
    {
     "data": {
      "text/plain": [
       "(240, 7)"
      ]
     },
     "execution_count": 78,
     "metadata": {},
     "output_type": "execute_result"
    }
   ],
   "source": [
    "X_train.shape"
   ]
  },
  {
   "cell_type": "code",
   "execution_count": 79,
   "id": "e636016a",
   "metadata": {},
   "outputs": [
    {
     "data": {
      "text/html": [
       "<div>\n",
       "<style scoped>\n",
       "    .dataframe tbody tr th:only-of-type {\n",
       "        vertical-align: middle;\n",
       "    }\n",
       "\n",
       "    .dataframe tbody tr th {\n",
       "        vertical-align: top;\n",
       "    }\n",
       "\n",
       "    .dataframe thead th {\n",
       "        text-align: right;\n",
       "    }\n",
       "</style>\n",
       "<table border=\"1\" class=\"dataframe\">\n",
       "  <thead>\n",
       "    <tr style=\"text-align: right;\">\n",
       "      <th></th>\n",
       "      <th>GRE Score</th>\n",
       "      <th>TOEFL Score</th>\n",
       "      <th>University Rating</th>\n",
       "      <th>SOP</th>\n",
       "      <th>LOR</th>\n",
       "      <th>CGPA</th>\n",
       "      <th>Research</th>\n",
       "    </tr>\n",
       "  </thead>\n",
       "  <tbody>\n",
       "    <tr>\n",
       "      <th>336</th>\n",
       "      <td>319</td>\n",
       "      <td>110</td>\n",
       "      <td>3</td>\n",
       "      <td>3.0</td>\n",
       "      <td>2.5</td>\n",
       "      <td>8.79</td>\n",
       "      <td>0</td>\n",
       "    </tr>\n",
       "    <tr>\n",
       "      <th>64</th>\n",
       "      <td>325</td>\n",
       "      <td>111</td>\n",
       "      <td>3</td>\n",
       "      <td>3.0</td>\n",
       "      <td>3.5</td>\n",
       "      <td>8.70</td>\n",
       "      <td>0</td>\n",
       "    </tr>\n",
       "    <tr>\n",
       "      <th>55</th>\n",
       "      <td>320</td>\n",
       "      <td>103</td>\n",
       "      <td>3</td>\n",
       "      <td>3.0</td>\n",
       "      <td>3.0</td>\n",
       "      <td>7.70</td>\n",
       "      <td>0</td>\n",
       "    </tr>\n",
       "    <tr>\n",
       "      <th>106</th>\n",
       "      <td>329</td>\n",
       "      <td>111</td>\n",
       "      <td>4</td>\n",
       "      <td>4.5</td>\n",
       "      <td>4.5</td>\n",
       "      <td>9.18</td>\n",
       "      <td>1</td>\n",
       "    </tr>\n",
       "    <tr>\n",
       "      <th>300</th>\n",
       "      <td>309</td>\n",
       "      <td>106</td>\n",
       "      <td>2</td>\n",
       "      <td>2.5</td>\n",
       "      <td>2.5</td>\n",
       "      <td>8.00</td>\n",
       "      <td>0</td>\n",
       "    </tr>\n",
       "  </tbody>\n",
       "</table>\n",
       "</div>"
      ],
      "text/plain": [
       "     GRE Score  TOEFL Score  University Rating  SOP  LOR  CGPA  Research\n",
       "336        319          110                  3  3.0  2.5  8.79         0\n",
       "64         325          111                  3  3.0  3.5  8.70         0\n",
       "55         320          103                  3  3.0  3.0  7.70         0\n",
       "106        329          111                  4  4.5  4.5  9.18         1\n",
       "300        309          106                  2  2.5  2.5  8.00         0"
      ]
     },
     "execution_count": 79,
     "metadata": {},
     "output_type": "execute_result"
    }
   ],
   "source": [
    "X_val.head()"
   ]
  },
  {
   "cell_type": "code",
   "execution_count": 80,
   "id": "efde4d4f",
   "metadata": {
    "scrolled": false
   },
   "outputs": [
    {
     "data": {
      "text/plain": [
       "(80, 7)"
      ]
     },
     "execution_count": 80,
     "metadata": {},
     "output_type": "execute_result"
    }
   ],
   "source": [
    "X_val.shape"
   ]
  },
  {
   "cell_type": "code",
   "execution_count": 81,
   "id": "5f56812c",
   "metadata": {},
   "outputs": [
    {
     "data": {
      "text/html": [
       "<div>\n",
       "<style scoped>\n",
       "    .dataframe tbody tr th:only-of-type {\n",
       "        vertical-align: middle;\n",
       "    }\n",
       "\n",
       "    .dataframe tbody tr th {\n",
       "        vertical-align: top;\n",
       "    }\n",
       "\n",
       "    .dataframe thead th {\n",
       "        text-align: right;\n",
       "    }\n",
       "</style>\n",
       "<table border=\"1\" class=\"dataframe\">\n",
       "  <thead>\n",
       "    <tr style=\"text-align: right;\">\n",
       "      <th></th>\n",
       "      <th>GRE Score</th>\n",
       "      <th>TOEFL Score</th>\n",
       "      <th>University Rating</th>\n",
       "      <th>SOP</th>\n",
       "      <th>LOR</th>\n",
       "      <th>CGPA</th>\n",
       "      <th>Research</th>\n",
       "    </tr>\n",
       "  </thead>\n",
       "  <tbody>\n",
       "    <tr>\n",
       "      <th>132</th>\n",
       "      <td>309</td>\n",
       "      <td>105</td>\n",
       "      <td>5</td>\n",
       "      <td>3.5</td>\n",
       "      <td>3.5</td>\n",
       "      <td>8.56</td>\n",
       "      <td>0</td>\n",
       "    </tr>\n",
       "    <tr>\n",
       "      <th>309</th>\n",
       "      <td>308</td>\n",
       "      <td>110</td>\n",
       "      <td>4</td>\n",
       "      <td>3.5</td>\n",
       "      <td>3.0</td>\n",
       "      <td>8.60</td>\n",
       "      <td>0</td>\n",
       "    </tr>\n",
       "    <tr>\n",
       "      <th>341</th>\n",
       "      <td>326</td>\n",
       "      <td>110</td>\n",
       "      <td>3</td>\n",
       "      <td>3.5</td>\n",
       "      <td>3.5</td>\n",
       "      <td>8.76</td>\n",
       "      <td>1</td>\n",
       "    </tr>\n",
       "    <tr>\n",
       "      <th>196</th>\n",
       "      <td>306</td>\n",
       "      <td>105</td>\n",
       "      <td>2</td>\n",
       "      <td>3.0</td>\n",
       "      <td>2.5</td>\n",
       "      <td>8.26</td>\n",
       "      <td>0</td>\n",
       "    </tr>\n",
       "    <tr>\n",
       "      <th>246</th>\n",
       "      <td>316</td>\n",
       "      <td>105</td>\n",
       "      <td>3</td>\n",
       "      <td>3.0</td>\n",
       "      <td>3.5</td>\n",
       "      <td>8.73</td>\n",
       "      <td>0</td>\n",
       "    </tr>\n",
       "  </tbody>\n",
       "</table>\n",
       "</div>"
      ],
      "text/plain": [
       "     GRE Score  TOEFL Score  University Rating  SOP  LOR  CGPA  Research\n",
       "132        309          105                  5  3.5  3.5  8.56         0\n",
       "309        308          110                  4  3.5  3.0  8.60         0\n",
       "341        326          110                  3  3.5  3.5  8.76         1\n",
       "196        306          105                  2  3.0  2.5  8.26         0\n",
       "246        316          105                  3  3.0  3.5  8.73         0"
      ]
     },
     "execution_count": 81,
     "metadata": {},
     "output_type": "execute_result"
    }
   ],
   "source": [
    "X_test.head()"
   ]
  },
  {
   "cell_type": "code",
   "execution_count": 82,
   "id": "187fbd8c",
   "metadata": {
    "scrolled": true
   },
   "outputs": [
    {
     "data": {
      "text/plain": [
       "(80, 7)"
      ]
     },
     "execution_count": 82,
     "metadata": {},
     "output_type": "execute_result"
    }
   ],
   "source": [
    "X_test.shape"
   ]
  },
  {
   "cell_type": "markdown",
   "id": "e88c0d8a",
   "metadata": {},
   "source": [
    "# Pre-processing"
   ]
  },
  {
   "cell_type": "markdown",
   "id": "b28931ae",
   "metadata": {},
   "source": [
    "#### Obs: o pré-processamento deve vir depois do processo de split, para evitar adicionar viés aos dados de teste por influência dos dados de treino."
   ]
  },
  {
   "cell_type": "markdown",
   "id": "92f31e29",
   "metadata": {},
   "source": [
    "### Mudando a escala dos dados para [0, 1]\n",
    "\n",
    "Transformaremos [min, max] -> [0, 1] para cada coluna."
   ]
  },
  {
   "cell_type": "code",
   "execution_count": 83,
   "id": "136eaeea",
   "metadata": {},
   "outputs": [],
   "source": [
    "def scale(feature, train_feature):\n",
    "    minimum = min(train_feature)\n",
    "    maximum = max(train_feature)\n",
    "    return (feature - minimum)/(maximum - minimum)"
   ]
  },
  {
   "cell_type": "code",
   "execution_count": 84,
   "id": "74ff05dd",
   "metadata": {},
   "outputs": [],
   "source": [
    "unscaled_X_train= X_train.copy()\n",
    "X_train_scaled = X_train.copy()\n",
    "X_val_scaled = X_val.copy()\n",
    "X_test_scaled = X_test.copy()\n",
    "for feature in features:\n",
    "    X_train_scaled[feature] = scale(X_train_scaled[feature], unscaled_X_train[feature])\n",
    "    X_val_scaled[feature] = scale(X_val_scaled[feature], unscaled_X_train[feature])\n",
    "    X_test_scaled[feature] = scale(X_test_scaled[feature], unscaled_X_train[feature])"
   ]
  },
  {
   "cell_type": "markdown",
   "id": "970d5d90",
   "metadata": {},
   "source": [
    "### Treinando o modelo"
   ]
  },
  {
   "cell_type": "code",
   "execution_count": 85,
   "id": "e7b40d76",
   "metadata": {},
   "outputs": [],
   "source": [
    "ws = list(np.zeros(len(features)))\n",
    "b = 0\n",
    "alpha = 0.1"
   ]
  },
  {
   "cell_type": "code",
   "execution_count": 86,
   "id": "20d9f373",
   "metadata": {},
   "outputs": [],
   "source": [
    "model = Linear_Regression_Model(features = X_train_scaled,\n",
    "                                label = y_train, ws = ws, b = b, alpha = alpha,\n",
    "                                random_state = random_state)"
   ]
  },
  {
   "cell_type": "code",
   "execution_count": 87,
   "id": "25fe929a",
   "metadata": {
    "scrolled": true
   },
   "outputs": [
    {
     "data": {
      "text/plain": [
       "0.32836225"
      ]
     },
     "execution_count": 87,
     "metadata": {},
     "output_type": "execute_result"
    }
   ],
   "source": [
    "model.get_loss(X_train_scaled, y_train)"
   ]
  },
  {
   "cell_type": "code",
   "execution_count": 88,
   "id": "e9392188",
   "metadata": {},
   "outputs": [],
   "source": [
    "model.sgd(iterations = 100, batch_size = 10, print_loss = False)"
   ]
  },
  {
   "cell_type": "code",
   "execution_count": 89,
   "id": "49fb5dc9",
   "metadata": {},
   "outputs": [
    {
     "data": {
      "text/plain": [
       "0.0026298683596462746"
      ]
     },
     "execution_count": 89,
     "metadata": {},
     "output_type": "execute_result"
    }
   ],
   "source": [
    "model.get_loss(X_train_scaled, y_train)"
   ]
  },
  {
   "cell_type": "markdown",
   "id": "0a4da991",
   "metadata": {},
   "source": [
    "### Aplicando o modelo nos dados de validação"
   ]
  },
  {
   "cell_type": "code",
   "execution_count": 90,
   "id": "88b4cf62",
   "metadata": {},
   "outputs": [
    {
     "data": {
      "text/plain": [
       "array([0.70300941, 0.74718055, 0.63321292, 0.87350268, 0.60160892,\n",
       "       0.77625128, 0.61935197, 0.72724331, 0.79030282, 0.84149826,\n",
       "       0.76415246, 0.93123656, 0.58296967, 0.51828254, 0.85411509,\n",
       "       0.63484656, 0.77190742, 0.59823798, 0.72877566, 0.73720078,\n",
       "       0.68955423, 0.71427937, 0.80395073, 0.49724794, 0.74434964,\n",
       "       0.69298895, 0.98097558, 0.61524728, 0.73644651, 0.63462179,\n",
       "       0.59388607, 0.78174869, 0.70295131, 0.70785395, 0.84301344,\n",
       "       0.86539436, 0.93176713, 0.78182126, 0.64314142, 0.61609948,\n",
       "       0.58848724, 0.69151731, 0.89526426, 0.65743089, 0.46288212,\n",
       "       0.87724759, 0.94373314, 0.67706468, 0.71246377, 0.57078048,\n",
       "       0.88596918, 0.67706117, 0.76654186, 0.53874916, 0.78494595,\n",
       "       0.62577697, 0.84294774, 0.71546917, 0.53596079, 0.70201763,\n",
       "       0.84950451, 0.72671464, 0.59354043, 0.69176346, 0.70034738,\n",
       "       0.72330833, 0.57522961, 0.78753795, 0.86251808, 0.66283263,\n",
       "       0.7755266 , 0.96784311, 0.74636214, 0.68609704, 0.92605147,\n",
       "       0.72507283, 0.76624757, 0.81082111, 0.73076296, 0.70140547])"
      ]
     },
     "execution_count": 90,
     "metadata": {},
     "output_type": "execute_result"
    }
   ],
   "source": [
    "model.predict(X_val_scaled)"
   ]
  },
  {
   "cell_type": "code",
   "execution_count": 91,
   "id": "9ab2b929",
   "metadata": {},
   "outputs": [
    {
     "data": {
      "text/plain": [
       "0.0009254166322416927"
      ]
     },
     "execution_count": 91,
     "metadata": {},
     "output_type": "execute_result"
    }
   ],
   "source": [
    "model.get_loss(X_val_scaled, y_val)"
   ]
  },
  {
   "cell_type": "markdown",
   "id": "63adc15e",
   "metadata": {},
   "source": [
    "As perdas relativas à train_data e à val_data estão muito próximas e estão suficientemente baixas. Logo, falta somente conferirmos se o modelo não está overfitted por meio test_data."
   ]
  },
  {
   "cell_type": "markdown",
   "id": "c510c89b",
   "metadata": {},
   "source": [
    "### Aplicando o modelo nos dados de teste"
   ]
  },
  {
   "cell_type": "code",
   "execution_count": 92,
   "id": "527862f7",
   "metadata": {},
   "outputs": [
    {
     "data": {
      "text/plain": [
       "array([0.70346951, 0.70113158, 0.78044913, 0.614065  , 0.70126604,\n",
       "       0.60622974, 0.6919436 , 0.6795312 , 0.87287364, 0.93200079,\n",
       "       0.51053574, 0.88008498, 0.73572575, 0.48124326, 0.86093245,\n",
       "       0.58780857, 0.63227829, 0.79449464, 0.61555213, 0.75175424,\n",
       "       0.90725539, 0.8687526 , 0.6395799 , 0.45455306, 0.80568879,\n",
       "       0.60312979, 0.51586619, 0.65419442, 0.91463629, 0.68790263,\n",
       "       0.64107827, 0.74931917, 0.77293924, 0.54184161, 0.78204203,\n",
       "       0.76393588, 0.71706472, 0.86018388, 0.62771002, 0.92938096,\n",
       "       0.74224877, 0.67731318, 0.73976953, 0.81768445, 0.84683643,\n",
       "       0.69919024, 0.58288675, 0.74252138, 0.59141317, 0.59754546,\n",
       "       0.65296059, 0.77816832, 0.61979498, 0.90403542, 0.73962892,\n",
       "       0.71599964, 0.78981533, 0.75702768, 0.78501394, 0.85225518,\n",
       "       0.75512333, 0.43968026, 0.61615326, 0.53622029, 0.85789097,\n",
       "       0.78456132, 0.70294371, 0.86489588, 0.74641866, 0.72868304,\n",
       "       0.6280323 , 0.84186953, 0.79621817, 0.63351699, 0.91484551,\n",
       "       0.64411221, 0.6153419 , 0.6184112 , 0.88527533, 0.49360501])"
      ]
     },
     "execution_count": 92,
     "metadata": {},
     "output_type": "execute_result"
    }
   ],
   "source": [
    "model.predict(X_test_scaled)"
   ]
  },
  {
   "cell_type": "code",
   "execution_count": 93,
   "id": "8fcea5db",
   "metadata": {},
   "outputs": [
    {
     "data": {
      "text/plain": [
       "0.005834928309761793"
      ]
     },
     "execution_count": 93,
     "metadata": {},
     "output_type": "execute_result"
    }
   ],
   "source": [
    "model.get_loss(X_test_scaled, y_val)"
   ]
  },
  {
   "cell_type": "markdown",
   "id": "56c27a16",
   "metadata": {},
   "source": [
    "O resultado está bem coerente e configura uma possível predição. Assim, conseguimos treinar o modelo, validá-lo e testá-lo com sucesso!"
   ]
  },
  {
   "cell_type": "markdown",
   "id": "cdb8d4ff",
   "metadata": {},
   "source": [
    "### Parâmetros finais do modelo"
   ]
  },
  {
   "cell_type": "code",
   "execution_count": 94,
   "id": "8ab16874",
   "metadata": {
    "scrolled": true
   },
   "outputs": [
    {
     "name": "stdout",
     "output_type": "stream",
     "text": [
      "w1 = 0.11879119170129392\n",
      "w2 = 0.12178581623485109\n",
      "w3 = 0.03466165172927982\n",
      "w4 = 0.08296755000680148\n",
      "w5 = 0.12104512820940831\n",
      "w6 = 0.16274519530202722\n",
      "w7 = 0.021741583370602384\n",
      "b = 0.34781088671437677\n"
     ]
    }
   ],
   "source": [
    "model.print_parameters()"
   ]
  }
 ],
 "metadata": {
  "kernelspec": {
   "display_name": "Python 3 (ipykernel)",
   "language": "python",
   "name": "python3"
  },
  "language_info": {
   "codemirror_mode": {
    "name": "ipython",
    "version": 3
   },
   "file_extension": ".py",
   "mimetype": "text/x-python",
   "name": "python",
   "nbconvert_exporter": "python",
   "pygments_lexer": "ipython3",
   "version": "3.9.7"
  }
 },
 "nbformat": 4,
 "nbformat_minor": 5
}
