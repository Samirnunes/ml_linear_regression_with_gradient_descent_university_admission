{
 "cells": [
  {
   "cell_type": "markdown",
   "id": "75ea5e69",
   "metadata": {},
   "source": [
    "# Machine Learning: Gradiente Descendente Estocástico"
   ]
  },
  {
   "cell_type": "markdown",
   "id": "238dcd9c",
   "metadata": {},
   "source": [
    "### Bibliotecas"
   ]
  },
  {
   "cell_type": "code",
   "execution_count": 1,
   "id": "8eab28aa",
   "metadata": {},
   "outputs": [],
   "source": [
    "import numpy as np\n",
    "import pandas as pd\n",
    "np.random.seed(0) # Para termos sempre os mesmos números aleatórios."
   ]
  },
  {
   "cell_type": "markdown",
   "id": "4d5a5555",
   "metadata": {},
   "source": [
    "Utilizaremos o dataset \"Data for Admission in the University\", disponível no Kaggle."
   ]
  },
  {
   "cell_type": "code",
   "execution_count": 2,
   "id": "ab953b3f",
   "metadata": {},
   "outputs": [],
   "source": [
    "data = pd.read_csv('adm_data.csv')"
   ]
  },
  {
   "cell_type": "markdown",
   "id": "c3f01671",
   "metadata": {},
   "source": [
    "### Visualizando o dataset"
   ]
  },
  {
   "cell_type": "code",
   "execution_count": 3,
   "id": "47463ba3",
   "metadata": {},
   "outputs": [
    {
     "data": {
      "text/plain": [
       "(400, 9)"
      ]
     },
     "execution_count": 3,
     "metadata": {},
     "output_type": "execute_result"
    }
   ],
   "source": [
    "data.shape"
   ]
  },
  {
   "cell_type": "code",
   "execution_count": 4,
   "id": "280218d3",
   "metadata": {
    "scrolled": true
   },
   "outputs": [
    {
     "data": {
      "text/plain": [
       "Index(['Serial No.', 'GRE Score', 'TOEFL Score', 'University Rating', 'SOP',\n",
       "       'LOR ', 'CGPA', 'Research', 'Chance of Admit '],\n",
       "      dtype='object')"
      ]
     },
     "execution_count": 4,
     "metadata": {},
     "output_type": "execute_result"
    }
   ],
   "source": [
    "data.columns"
   ]
  },
  {
   "cell_type": "code",
   "execution_count": 5,
   "id": "7d74f480",
   "metadata": {},
   "outputs": [],
   "source": [
    "data.rename(columns = {'Chance of Admit ': 'Chance of Admit'}, inplace = True)"
   ]
  },
  {
   "cell_type": "code",
   "execution_count": 6,
   "id": "60948456",
   "metadata": {},
   "outputs": [
    {
     "data": {
      "text/html": [
       "<div>\n",
       "<style scoped>\n",
       "    .dataframe tbody tr th:only-of-type {\n",
       "        vertical-align: middle;\n",
       "    }\n",
       "\n",
       "    .dataframe tbody tr th {\n",
       "        vertical-align: top;\n",
       "    }\n",
       "\n",
       "    .dataframe thead th {\n",
       "        text-align: right;\n",
       "    }\n",
       "</style>\n",
       "<table border=\"1\" class=\"dataframe\">\n",
       "  <thead>\n",
       "    <tr style=\"text-align: right;\">\n",
       "      <th></th>\n",
       "      <th>Serial No.</th>\n",
       "      <th>GRE Score</th>\n",
       "      <th>TOEFL Score</th>\n",
       "      <th>University Rating</th>\n",
       "      <th>SOP</th>\n",
       "      <th>LOR</th>\n",
       "      <th>CGPA</th>\n",
       "      <th>Research</th>\n",
       "      <th>Chance of Admit</th>\n",
       "    </tr>\n",
       "  </thead>\n",
       "  <tbody>\n",
       "    <tr>\n",
       "      <th>0</th>\n",
       "      <td>1</td>\n",
       "      <td>337</td>\n",
       "      <td>118</td>\n",
       "      <td>4</td>\n",
       "      <td>4.5</td>\n",
       "      <td>4.5</td>\n",
       "      <td>9.65</td>\n",
       "      <td>1</td>\n",
       "      <td>0.92</td>\n",
       "    </tr>\n",
       "    <tr>\n",
       "      <th>1</th>\n",
       "      <td>2</td>\n",
       "      <td>324</td>\n",
       "      <td>107</td>\n",
       "      <td>4</td>\n",
       "      <td>4.0</td>\n",
       "      <td>4.5</td>\n",
       "      <td>8.87</td>\n",
       "      <td>1</td>\n",
       "      <td>0.76</td>\n",
       "    </tr>\n",
       "    <tr>\n",
       "      <th>2</th>\n",
       "      <td>3</td>\n",
       "      <td>316</td>\n",
       "      <td>104</td>\n",
       "      <td>3</td>\n",
       "      <td>3.0</td>\n",
       "      <td>3.5</td>\n",
       "      <td>8.00</td>\n",
       "      <td>1</td>\n",
       "      <td>0.72</td>\n",
       "    </tr>\n",
       "    <tr>\n",
       "      <th>3</th>\n",
       "      <td>4</td>\n",
       "      <td>322</td>\n",
       "      <td>110</td>\n",
       "      <td>3</td>\n",
       "      <td>3.5</td>\n",
       "      <td>2.5</td>\n",
       "      <td>8.67</td>\n",
       "      <td>1</td>\n",
       "      <td>0.80</td>\n",
       "    </tr>\n",
       "    <tr>\n",
       "      <th>4</th>\n",
       "      <td>5</td>\n",
       "      <td>314</td>\n",
       "      <td>103</td>\n",
       "      <td>2</td>\n",
       "      <td>2.0</td>\n",
       "      <td>3.0</td>\n",
       "      <td>8.21</td>\n",
       "      <td>0</td>\n",
       "      <td>0.65</td>\n",
       "    </tr>\n",
       "  </tbody>\n",
       "</table>\n",
       "</div>"
      ],
      "text/plain": [
       "   Serial No.  GRE Score  TOEFL Score  University Rating  SOP  LOR   CGPA  \\\n",
       "0           1        337          118                  4  4.5   4.5  9.65   \n",
       "1           2        324          107                  4  4.0   4.5  8.87   \n",
       "2           3        316          104                  3  3.0   3.5  8.00   \n",
       "3           4        322          110                  3  3.5   2.5  8.67   \n",
       "4           5        314          103                  2  2.0   3.0  8.21   \n",
       "\n",
       "   Research  Chance of Admit  \n",
       "0         1             0.92  \n",
       "1         1             0.76  \n",
       "2         1             0.72  \n",
       "3         1             0.80  \n",
       "4         0             0.65  "
      ]
     },
     "execution_count": 6,
     "metadata": {},
     "output_type": "execute_result"
    }
   ],
   "source": [
    "data.head()"
   ]
  },
  {
   "cell_type": "markdown",
   "id": "0b3f08ae",
   "metadata": {},
   "source": [
    "#### Definições:\n",
    "\n",
    "__Serial No.:__ número de série do estudante (índice + 1)\n",
    "\n",
    "__GRE Score:__ pontuação do estudante no GRE (Graduate Record Examination), um exame padronizado semelhante ao GMAT.\n",
    "\n",
    "__TOEFL Score:__ pontuação no TOEFL, um exame completo de inglês utilizado, entre outras coisas, para admissão em universidades.\n",
    "\n",
    "__University Rating:__ avaliação da universidade (quanto maior, mais conceituada é a universidade na qual o estudante quer entrar).\n",
    "\n",
    "__SOP:__ avaliação do Statement of Purpose, uma redação explicando o propósito do estudante ao aplicar para uma vaga em uma dada graduação em uma universidade.\n",
    "\n",
    "__LOR:__ avaliação da Letter of Recommendation, a carta de recomendação do estudante para a universidade.\n",
    "\n",
    "__CGPA:__ Cumulative Grade Point Average, é uma pontuação utilizada para medir o desempenho médio de um estudante.\n",
    "\n",
    "__Research:__ experiência em pesquisa (1 se o estudante tiver, 0 se não).\n",
    "\n",
    "__Chance of Admit:__ chance de admissão na universidade, indo de 0 a 1 (100%)."
   ]
  },
  {
   "cell_type": "markdown",
   "id": "5787262d",
   "metadata": {},
   "source": [
    "### Definição da label e das features"
   ]
  },
  {
   "cell_type": "markdown",
   "id": "1c6666d4",
   "metadata": {},
   "source": [
    "Nossa label (y) será a Chance of Admit.\n",
    "\n",
    "A lista de colunas [\"GRE Score\", \"TOEFL Score\", \"University Rating\", \"SOP\", \"LOR\", \"CGPA\", \"Research\"] contém as features altamente correlacionadas com a chance de admissão na universidade. No nosso caso, iremos tratar apenas das features contínuas, sendo a lista de features que pode ser utilizada a seguinte: features = [\"GRE Score\", \"TOEFL Score\", \"University Rating\", \"SOP\", \"LOR\", \"CGPA\"].\n",
    "\n",
    "Implementaremos o algoritmo de __Gradiente Descendente Estocástico em mini-lotes__  nos seguintes casos:\n",
    "\n",
    "1) Modelo de Regressão Linear com 1 feature.\n",
    "\n",
    "2) Modelo de Regressão Linear com todas as features contínuas do dataset."
   ]
  },
  {
   "cell_type": "markdown",
   "id": "9218ea7f",
   "metadata": {},
   "source": [
    "### 1) Modelo de Regressão Linear com 1 feature"
   ]
  },
  {
   "cell_type": "markdown",
   "id": "ee6682d1",
   "metadata": {},
   "source": [
    "O modelo será da forma: \n",
    "\n",
    "$\\hat{y} = w_{1}x_{1} + b$\n",
    "\n",
    "Em que $\\hat{y}$ é a estimativa (ou predição) da label $y$, dado um valor da feature $x_{1}$, $w_{1}$ é o peso (weight) associado à feature $x_{1}$ e $b$ é chamado de viés (bias)."
   ]
  },
  {
   "cell_type": "markdown",
   "id": "6083a440",
   "metadata": {},
   "source": [
    "Vamos definir a perda (loss) associada ao modelo através da função de perda $L_{2}$, também chamada de squared loss. Assim:\n",
    "\n",
    "$loss = \\frac{1}{n}\\sum_{i = 1}^{n} (\\hat{y_{i}} - y_{i})^2$"
   ]
  },
  {
   "cell_type": "markdown",
   "id": "7d32012d",
   "metadata": {},
   "source": [
    "Em que n é o número de dados que iremos utilizar no aprendizado de nosso modelo."
   ]
  },
  {
   "cell_type": "markdown",
   "id": "15eaf8f2",
   "metadata": {},
   "source": [
    "Podemos escrevê-la ainda como função explícita dos parâmetros $w_{1}$ e $b$:\n",
    "\n",
    "$loss = f(w_{1}, b) = \\frac{1}{n}\\sum_{i = 1}^{n} (w_{1}(x_{1})_{i} + b - y_{i})^2$"
   ]
  },
  {
   "cell_type": "markdown",
   "id": "610d4265",
   "metadata": {},
   "source": [
    "Como queremos reduzir a perda de nosso modelo ao máximo, devemos fazer os parâmetros variarem na direção do  negativo do gradiente de f (esse é o princípio do algoritmo de Gradiente Descendente Estocástico). \n",
    "\n",
    "Nesse contexto, chamemos $\\theta = (w_{1}, b)$. Além disso, definimos o hiperparâmetro $\\alpha$ como sendo a taxa de aprendizagem do modelo, a qual afeta diretamente a velocidade de convergência do modelo para os parâmetros ideais.\n",
    "\n",
    "Assim, o novo valor de $\\theta$, $\\theta'$, será dado pela fórmula:\n",
    "\n",
    "$\\theta' = \\theta - \\alpha \\cdot \\nabla f(w_{1}, b)$\n",
    "\n",
    "Onde $\\nabla f(w_{1}, b) = (\\frac{\\partial f}{\\partial w_{1}}, \\frac{\\partial f}{\\partial b})$ é o gradiente de f."
   ]
  },
  {
   "cell_type": "markdown",
   "id": "8afe6a26",
   "metadata": {},
   "source": [
    "Calculando as derivadas parciais:\n",
    "\n",
    "$\\frac{\\partial f}{\\partial w_{1}} = \\frac{2}{n}\\sum_{i = 1}^{n} (w_{1}(x_{1})_{i} + b - y_{i}) \\cdot (x_{1})_{i}$\n",
    "\n",
    "$\\frac{\\partial f}{\\partial b} = \\frac{2}{n}\\sum_{i = 1}^{n} (w_{1}(x_{1})_{i} + b - y_{i})$\n",
    "\n",
    "Obtemos os novos valores do peso e do viés após uma iteração:\n",
    "\n",
    "$w_{1}' = w_{1} - \\frac{2 \\alpha}{n}\\sum_{i = 1}^{n} (w_{1}(x_{1})_{i} + b - y_{i}) \\cdot (x_{1})_{i}$\n",
    "\n",
    "$b' = b - \\frac{2 \\alpha}{n}\\sum_{i = 1}^{n} (w_{1}(x_{1})_{i} + b - y_{i})$"
   ]
  },
  {
   "cell_type": "markdown",
   "id": "410cece1",
   "metadata": {},
   "source": [
    "Com isso em mente, iremos implementar o modelo de regressão linear que se adequa aos dados através do Gradiente Descendente Estocástico em mini-lotes."
   ]
  },
  {
   "cell_type": "code",
   "execution_count": 403,
   "id": "39e3ea18",
   "metadata": {},
   "outputs": [],
   "source": [
    "class Linear_Regression_Model():\n",
    "    def __init__(self, feature, label, w1, b, alpha):\n",
    "        self.feature = feature\n",
    "        self.label = label\n",
    "        self.w1 = w1\n",
    "        self.b = b\n",
    "        self.alpha = alpha\n",
    "        \n",
    "    def print_parameters(self):\n",
    "        print(f'w1 = {self.w1}\\nb = {self.b}')\n",
    "        \n",
    "    def get_prediction(self, x1):\n",
    "        return self.w1*x1 + self.b\n",
    "        \n",
    "    def get_loss(self):\n",
    "        loss = 0\n",
    "        n = len(self.feature)\n",
    "        for (x1, y) in zip(self.feature, self.label):\n",
    "            loss += (1/n)*(self.get_prediction(x1) - y)**2\n",
    "        return loss\n",
    "        \n",
    "    def sgd_update_parameters(self, batch_size: int):\n",
    "        index_list = list(range(0, len(self.feature)))\n",
    "        random_indices = np.random.choice(index_list, size = batch_size, replace = True) # bootstrap sample\n",
    "        x1_sample = self.feature.iloc[random_indices]\n",
    "        y_sample = self.label.iloc[random_indices]\n",
    "        old_w1 = self.w1\n",
    "        old_b = self.b\n",
    "        for (x1, y) in zip(x1_sample, y_sample):\n",
    "            partial_w1 = (2/batch_size) * (old_w1*x1 + old_b - y) * x1\n",
    "            partial_b = (2/batch_size) * (old_w1*x1 + old_b - y)\n",
    "            self.w1 -= self.alpha * partial_w1\n",
    "            self.b -= self.alpha * partial_b\n",
    "        \n",
    "    def sgd(self, iterations, batch_size, print_loss): # stochastic gradient descent\n",
    "        for i in range(0, iterations):\n",
    "            self.sgd_update_parameters(batch_size)\n",
    "            if print_loss:\n",
    "                print(f'loss = {self.get_loss()}')"
   ]
  },
  {
   "cell_type": "code",
   "execution_count": 404,
   "id": "f2455c2e",
   "metadata": {},
   "outputs": [],
   "source": [
    "feature = data['CGPA']\n",
    "label = data['Chance of Admit']"
   ]
  },
  {
   "cell_type": "code",
   "execution_count": 405,
   "id": "0d2844d4",
   "metadata": {},
   "outputs": [],
   "source": [
    "model = Linear_Regression_Model(feature = feature, label = label, w1 = 0.2, b = -1, alpha = 0.01)"
   ]
  },
  {
   "cell_type": "code",
   "execution_count": 406,
   "id": "7f1faf0e",
   "metadata": {},
   "outputs": [],
   "source": [
    "model.sgd(iterations = 100000, batch_size = 10, print_loss = False)"
   ]
  },
  {
   "cell_type": "code",
   "execution_count": 407,
   "id": "20e93c89",
   "metadata": {
    "scrolled": true
   },
   "outputs": [
    {
     "name": "stdout",
     "output_type": "stream",
     "text": [
      "w1 = 0.2112039705108394\n",
      "b = -1.071915360318939\n"
     ]
    }
   ],
   "source": [
    "model.print_parameters()"
   ]
  },
  {
   "cell_type": "markdown",
   "id": "fba0037d",
   "metadata": {},
   "source": [
    "### Plotando a reta de regressão obtida através do SGD e comparando com a curva analítica"
   ]
  },
  {
   "cell_type": "markdown",
   "id": "de54bd1a",
   "metadata": {},
   "source": [
    "#### Bibliotecas"
   ]
  },
  {
   "cell_type": "code",
   "execution_count": 408,
   "id": "e8fdeb64",
   "metadata": {},
   "outputs": [],
   "source": [
    "import seaborn as sns\n",
    "import matplotlib.pyplot as plt\n",
    "%matplotlib inline"
   ]
  },
  {
   "cell_type": "markdown",
   "id": "ec631380",
   "metadata": {},
   "source": [
    "#### Obtendo os parâmetros da curva analítica através do numpy"
   ]
  },
  {
   "cell_type": "code",
   "execution_count": 409,
   "id": "4eee01a4",
   "metadata": {},
   "outputs": [],
   "source": [
    "m_np, b_np = np.polyfit(feature, label, 1)"
   ]
  },
  {
   "cell_type": "code",
   "execution_count": 410,
   "id": "3fb16ccd",
   "metadata": {
    "scrolled": true
   },
   "outputs": [
    {
     "data": {
      "text/plain": [
       "0.20884722950069112"
      ]
     },
     "execution_count": 410,
     "metadata": {},
     "output_type": "execute_result"
    }
   ],
   "source": [
    "m_np"
   ]
  },
  {
   "cell_type": "code",
   "execution_count": 411,
   "id": "238935e0",
   "metadata": {
    "scrolled": false
   },
   "outputs": [
    {
     "data": {
      "text/plain": [
       "-1.071511662934231"
      ]
     },
     "execution_count": 411,
     "metadata": {},
     "output_type": "execute_result"
    }
   ],
   "source": [
    "b_np"
   ]
  },
  {
   "cell_type": "markdown",
   "id": "396b500a",
   "metadata": {},
   "source": [
    "#### Obtendo os pontos da reta SGD"
   ]
  },
  {
   "cell_type": "code",
   "execution_count": 412,
   "id": "1327dbe0",
   "metadata": {},
   "outputs": [],
   "source": [
    "x = np.arange(0, 10.01, 0.01)\n",
    "y_sgd = []\n",
    "for x1 in x:\n",
    "    y_sgd.append(model.get_prediction(x1))\n",
    "y_sgd = np.array(y_sgd)"
   ]
  },
  {
   "cell_type": "markdown",
   "id": "c899869d",
   "metadata": {},
   "source": [
    "#### Plot das retas"
   ]
  },
  {
   "cell_type": "code",
   "execution_count": 422,
   "id": "a95674fa",
   "metadata": {
    "scrolled": true
   },
   "outputs": [
    {
     "data": {
      "text/plain": [
       "<matplotlib.legend.Legend at 0x16277fbdfd0>"
      ]
     },
     "execution_count": 422,
     "metadata": {},
     "output_type": "execute_result"
    },
    {
     "data": {
      "image/png": "[encoded data removed]",
      "text/plain": [
       "<Figure size 432x288 with 1 Axes>"
      ]
     },
     "metadata": {
      "needs_background": "light"
     },
     "output_type": "display_data"
    }
   ],
   "source": [
    "plt.plot(feature, label, 'o', color = 'black') # Plot dos dados\n",
    "plt.plot(x, y_sgd, color = 'blue') # Plot da reta SGD\n",
    "plt.plot(x, m_np*x + b_np, color = 'red') # Plot da reta de regressão analítica\n",
    "plt.xlim([7.0, 10.0])\n",
    "plt.ylim([0, 1])\n",
    "plt.legend(['Data', 'SGD', 'Analytical'])"
   ]
  }
 ],
 "metadata": {
  "kernelspec": {
   "display_name": "Python 3 (ipykernel)",
   "language": "python",
   "name": "python3"
  },
  "language_info": {
   "codemirror_mode": {
    "name": "ipython",
    "version": 3
   },
   "file_extension": ".py",
   "mimetype": "text/x-python",
   "name": "python",
   "nbconvert_exporter": "python",
   "pygments_lexer": "ipython3",
   "version": "3.9.7"
  }
 },
 "nbformat": 4,
 "nbformat_minor": 5
}
