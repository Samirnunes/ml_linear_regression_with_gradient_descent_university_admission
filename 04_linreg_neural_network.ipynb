{
 "cells": [
  {
   "cell_type": "markdown",
   "id": "fb19846c",
   "metadata": {},
   "source": [
    "## Data for Admission in the University: analisando modelos de Redes Neurais"
   ]
  },
  {
   "cell_type": "markdown",
   "id": "6573f028",
   "metadata": {},
   "source": [
    "#### Importando as bibliotecas necessárias"
   ]
  },
  {
   "cell_type": "code",
   "execution_count": 62,
   "id": "d983fe89",
   "metadata": {
    "scrolled": true
   },
   "outputs": [],
   "source": [
    "import pandas as pd\n",
    "import numpy as np\n",
    "import tensorflow as tf\n",
    "import matplotlib.pyplot as plt\n",
    "from sklearn.model_selection import train_test_split, KFold"
   ]
  },
  {
   "cell_type": "markdown",
   "id": "f8d81340",
   "metadata": {},
   "source": [
    "#### Lendo o arquivo .csv com os dados"
   ]
  },
  {
   "cell_type": "code",
   "execution_count": 63,
   "id": "297f5d14",
   "metadata": {},
   "outputs": [],
   "source": [
    "data = pd.read_csv('adm_data.csv')  "
   ]
  },
  {
   "cell_type": "markdown",
   "id": "328c0e39",
   "metadata": {},
   "source": [
    "#### Renomeando colunas para tirar espaços desnecessários e facilitar o acesso a elas"
   ]
  },
  {
   "cell_type": "code",
   "execution_count": 64,
   "id": "991dd87e",
   "metadata": {},
   "outputs": [],
   "source": [
    "data.rename(columns = {'Chance of Admit ': 'Chance of Admit'}, inplace = True)\n",
    "data.rename(columns = {'LOR ': 'LOR'}, inplace = True)"
   ]
  },
  {
   "cell_type": "markdown",
   "id": "edaa7733",
   "metadata": {},
   "source": [
    "#### Visualizando os dados"
   ]
  },
  {
   "cell_type": "code",
   "execution_count": 65,
   "id": "925a64b6",
   "metadata": {
    "scrolled": false
   },
   "outputs": [
    {
     "data": {
      "text/html": [
       "<div>\n",
       "<style scoped>\n",
       "    .dataframe tbody tr th:only-of-type {\n",
       "        vertical-align: middle;\n",
       "    }\n",
       "\n",
       "    .dataframe tbody tr th {\n",
       "        vertical-align: top;\n",
       "    }\n",
       "\n",
       "    .dataframe thead th {\n",
       "        text-align: right;\n",
       "    }\n",
       "</style>\n",
       "<table border=\"1\" class=\"dataframe\">\n",
       "  <thead>\n",
       "    <tr style=\"text-align: right;\">\n",
       "      <th></th>\n",
       "      <th>Serial No.</th>\n",
       "      <th>GRE Score</th>\n",
       "      <th>TOEFL Score</th>\n",
       "      <th>University Rating</th>\n",
       "      <th>SOP</th>\n",
       "      <th>LOR</th>\n",
       "      <th>CGPA</th>\n",
       "      <th>Research</th>\n",
       "      <th>Chance of Admit</th>\n",
       "    </tr>\n",
       "  </thead>\n",
       "  <tbody>\n",
       "    <tr>\n",
       "      <th>0</th>\n",
       "      <td>1</td>\n",
       "      <td>337</td>\n",
       "      <td>118</td>\n",
       "      <td>4</td>\n",
       "      <td>4.5</td>\n",
       "      <td>4.5</td>\n",
       "      <td>9.65</td>\n",
       "      <td>1</td>\n",
       "      <td>0.92</td>\n",
       "    </tr>\n",
       "    <tr>\n",
       "      <th>1</th>\n",
       "      <td>2</td>\n",
       "      <td>324</td>\n",
       "      <td>107</td>\n",
       "      <td>4</td>\n",
       "      <td>4.0</td>\n",
       "      <td>4.5</td>\n",
       "      <td>8.87</td>\n",
       "      <td>1</td>\n",
       "      <td>0.76</td>\n",
       "    </tr>\n",
       "    <tr>\n",
       "      <th>2</th>\n",
       "      <td>3</td>\n",
       "      <td>316</td>\n",
       "      <td>104</td>\n",
       "      <td>3</td>\n",
       "      <td>3.0</td>\n",
       "      <td>3.5</td>\n",
       "      <td>8.00</td>\n",
       "      <td>1</td>\n",
       "      <td>0.72</td>\n",
       "    </tr>\n",
       "    <tr>\n",
       "      <th>3</th>\n",
       "      <td>4</td>\n",
       "      <td>322</td>\n",
       "      <td>110</td>\n",
       "      <td>3</td>\n",
       "      <td>3.5</td>\n",
       "      <td>2.5</td>\n",
       "      <td>8.67</td>\n",
       "      <td>1</td>\n",
       "      <td>0.80</td>\n",
       "    </tr>\n",
       "    <tr>\n",
       "      <th>4</th>\n",
       "      <td>5</td>\n",
       "      <td>314</td>\n",
       "      <td>103</td>\n",
       "      <td>2</td>\n",
       "      <td>2.0</td>\n",
       "      <td>3.0</td>\n",
       "      <td>8.21</td>\n",
       "      <td>0</td>\n",
       "      <td>0.65</td>\n",
       "    </tr>\n",
       "  </tbody>\n",
       "</table>\n",
       "</div>"
      ],
      "text/plain": [
       "   Serial No.  GRE Score  TOEFL Score  University Rating  SOP  LOR  CGPA  \\\n",
       "0           1        337          118                  4  4.5  4.5  9.65   \n",
       "1           2        324          107                  4  4.0  4.5  8.87   \n",
       "2           3        316          104                  3  3.0  3.5  8.00   \n",
       "3           4        322          110                  3  3.5  2.5  8.67   \n",
       "4           5        314          103                  2  2.0  3.0  8.21   \n",
       "\n",
       "   Research  Chance of Admit  \n",
       "0         1             0.92  \n",
       "1         1             0.76  \n",
       "2         1             0.72  \n",
       "3         1             0.80  \n",
       "4         0             0.65  "
      ]
     },
     "execution_count": 65,
     "metadata": {},
     "output_type": "execute_result"
    }
   ],
   "source": [
    "data.head()"
   ]
  },
  {
   "cell_type": "markdown",
   "id": "d61ec582",
   "metadata": {},
   "source": [
    "#### Retirando a coluna 'Serial No.', que não será utilizada"
   ]
  },
  {
   "cell_type": "code",
   "execution_count": 66,
   "id": "d93ccd7d",
   "metadata": {},
   "outputs": [],
   "source": [
    "data1 = data.drop(columns = ['Serial No.'])"
   ]
  },
  {
   "cell_type": "markdown",
   "id": "86bfaadd",
   "metadata": {},
   "source": [
    "#### Definindo features e label"
   ]
  },
  {
   "cell_type": "code",
   "execution_count": 67,
   "id": "eebb1504",
   "metadata": {},
   "outputs": [],
   "source": [
    "label = ['Chance of Admit']\n",
    "features = list(set(data1.columns).difference(label))"
   ]
  },
  {
   "cell_type": "code",
   "execution_count": 68,
   "id": "c3c2bb0a",
   "metadata": {},
   "outputs": [
    {
     "data": {
      "text/plain": [
       "['GRE Score',\n",
       " 'CGPA',\n",
       " 'LOR',\n",
       " 'SOP',\n",
       " 'TOEFL Score',\n",
       " 'Research',\n",
       " 'University Rating']"
      ]
     },
     "execution_count": 68,
     "metadata": {},
     "output_type": "execute_result"
    }
   ],
   "source": [
    "features"
   ]
  },
  {
   "cell_type": "markdown",
   "id": "a6047ba7",
   "metadata": {},
   "source": [
    "#### Definindo X e y"
   ]
  },
  {
   "cell_type": "code",
   "execution_count": 69,
   "id": "04f8ceff",
   "metadata": {},
   "outputs": [],
   "source": [
    "X = data[features]\n",
    "y = data[label]"
   ]
  },
  {
   "cell_type": "markdown",
   "id": "c494d4fb",
   "metadata": {},
   "source": [
    "#### Split dos dados em train e test"
   ]
  },
  {
   "cell_type": "code",
   "execution_count": 70,
   "id": "9cf9ecb3",
   "metadata": {},
   "outputs": [],
   "source": [
    "random_state = 25\n",
    "# Aqui o shuffling dos índices é automático.\n",
    "X_train, X_test, y_train, y_test = train_test_split(X, y, test_size = 0.3, random_state = random_state)"
   ]
  },
  {
   "cell_type": "markdown",
   "id": "cbea030d",
   "metadata": {},
   "source": [
    "#### Scaling nos dados para obter features no intervalo [0, 1]"
   ]
  },
  {
   "cell_type": "code",
   "execution_count": 71,
   "id": "227a1f56",
   "metadata": {},
   "outputs": [],
   "source": [
    "X_train_scaled = (X_train - X_train.min())/(X_train.max() - X_train.min())\n",
    "X_test_scaled = (X_test - X_train.min())/(X_train.max() - X_train.min())\n",
    "# y_train e y_test já estão na escala correta, pois são probabilidades.\n",
    "y_train_scaled = y_train\n",
    "y_test_scaled = y_test"
   ]
  },
  {
   "cell_type": "markdown",
   "id": "88ca288c",
   "metadata": {},
   "source": [
    "#### Criando funções para nos ajudar a definir e treinar o modelo"
   ]
  },
  {
   "cell_type": "code",
   "execution_count": 72,
   "id": "32348741",
   "metadata": {},
   "outputs": [],
   "source": [
    "def create_model(first_layer_units = 32, alpha = 0.1, reg_lambda = 0.1, features = [], random_seed = 0):\n",
    "    '''Creates a defined model with learning rate = alpha.'''\n",
    "    # Defining Tensorflow's random seed to generate reproducible results.\n",
    "    tf.keras.utils.set_random_seed(random_seed)\n",
    "    tf.config.experimental.enable_op_determinism()\n",
    "    \n",
    "    # We will be using Tensorflow's Sequencial API to build our model.\n",
    "    model = tf.keras.models.Sequential()\n",
    "    \n",
    "    # Adding first layer with input_dim = number of features and relu activation function \n",
    "    # to learn some non-linearities. We will also add L2 regularization in layer's kernel (weights).\n",
    "    model.add(tf.keras.layers.Dense(units = first_layer_units, input_shape = (len(features), ), \n",
    "                                   kernel_regularizer = tf.keras.regularizers.L2(l2 = reg_lambda),\n",
    "                                   activation = 'relu'))\n",
    "    \n",
    "    # Adding output layer with linear activation (linear regression output).\n",
    "    \n",
    "    model.add(tf.keras.layers.Dense(units = 1, activation = 'linear'))\n",
    "    \n",
    "    # Compiling model: selecting optimizer, loss and metrics.\n",
    "    \n",
    "    model.compile(optimizer = tf.keras.optimizers.RMSprop(learning_rate = alpha),\n",
    "                 loss = 'mean_squared_error',\n",
    "                 metrics = tf.keras.metrics.MeanSquaredError())\n",
    "    \n",
    "    return model"
   ]
  },
  {
   "cell_type": "code",
   "execution_count": 73,
   "id": "a1766c0c",
   "metadata": {},
   "outputs": [],
   "source": [
    "def train_model(model = None, X_train = None, y_train = None, epochs = 10,\n",
    "               batch_size = 10, validation_split = 0.3,\n",
    "               random_seed = 0):\n",
    "    tf.keras.utils.set_random_seed(random_seed)\n",
    "    tf.config.experimental.enable_op_determinism()\n",
    "    history = model.fit(x = X_train, y = y_train, batch_size = batch_size,\n",
    "         epochs = epochs, shuffle = False, \n",
    "         validation_split = validation_split, verbose = 0)\n",
    "    \n",
    "    hist = pd.DataFrame(history.history)\n",
    "    train_mse = np.array(hist['mean_squared_error'])\n",
    "    if validation_split != 0:\n",
    "        val_mse = np.array(hist['val_mean_squared_error'])\n",
    "        return train_mse, val_mse\n",
    "    return train_mse"
   ]
  },
  {
   "cell_type": "code",
   "execution_count": 74,
   "id": "d37b06ea",
   "metadata": {},
   "outputs": [],
   "source": [
    "def test_evaluation(model = None, X_test = None, y_test = None, batch_size = 10):\n",
    "    return model.evaluate(X_test, y_test, batch_size = batch_size, verbose = 0)"
   ]
  },
  {
   "cell_type": "markdown",
   "id": "0802900f",
   "metadata": {},
   "source": [
    "#### Definindo hiperparâmetros"
   ]
  },
  {
   "cell_type": "code",
   "execution_count": 75,
   "id": "f56f14e7",
   "metadata": {},
   "outputs": [],
   "source": [
    "hp = {'first_layer_units': 64, 'epochs': 6, 'batch_size': 20, 'alpha': 0.001, 'reg_lambda': 0.1}"
   ]
  },
  {
   "cell_type": "markdown",
   "id": "504a543d",
   "metadata": {},
   "source": [
    "#### Modelo"
   ]
  },
  {
   "cell_type": "code",
   "execution_count": 76,
   "id": "b457dea1",
   "metadata": {},
   "outputs": [],
   "source": [
    "model = create_model(first_layer_units = hp['first_layer_units'], alpha = hp['alpha'],\n",
    "                     reg_lambda = hp['reg_lambda'], features = features, random_seed = random_state)"
   ]
  },
  {
   "cell_type": "markdown",
   "id": "6cb13976",
   "metadata": {},
   "source": [
    "#### Treino e validação de nosso primeiro modelo"
   ]
  },
  {
   "cell_type": "code",
   "execution_count": 77,
   "id": "d4afa7d4",
   "metadata": {},
   "outputs": [],
   "source": [
    "val_split = 0.2"
   ]
  },
  {
   "cell_type": "code",
   "execution_count": 78,
   "id": "e9aa64e6",
   "metadata": {
    "scrolled": false
   },
   "outputs": [],
   "source": [
    "train_mse, val_mse = train_model(model, X_train_scaled, y_train_scaled, epochs = hp['epochs'], \n",
    "                                 batch_size = hp['batch_size'], random_seed = random_state,\n",
    "                                validation_split = val_split)"
   ]
  },
  {
   "cell_type": "markdown",
   "id": "e7e1f3dd",
   "metadata": {},
   "source": [
    "- Notamos um comportamento à primeira vista \"estranho\": os valores da função loss, que foi escolhida como mean_squared_error, está diferente da métrica mean_squared_error. Isso ocorre porque o cálculo de loss ocorre fazendo a média aritmética das somas dos quadrados dos erros e o cálculo da métrica ocorre fazendo a média ponderada desse valor."
   ]
  },
  {
   "cell_type": "code",
   "execution_count": 79,
   "id": "54271c48",
   "metadata": {},
   "outputs": [
    {
     "name": "stdout",
     "output_type": "stream",
     "text": [
      "0.0076585435308516026 0.007345627062022686\n"
     ]
    }
   ],
   "source": [
    "print(train_mse[-1], val_mse[-1])"
   ]
  },
  {
   "cell_type": "code",
   "execution_count": 80,
   "id": "d8194479",
   "metadata": {},
   "outputs": [
    {
     "data": {
      "text/plain": [
       "0.008152886293828487"
      ]
     },
     "execution_count": 80,
     "metadata": {},
     "output_type": "execute_result"
    }
   ],
   "source": [
    "test_evaluation(model, X_test_scaled, y_test_scaled, batch_size = hp['batch_size'])[1]"
   ]
  },
  {
   "cell_type": "markdown",
   "id": "0ae9bec7",
   "metadata": {},
   "source": [
    "Parece que o modelo se saiu bem, pois os valores das métricas nos datasets de treino, validação e de teste estão muito próximas e bastante pequenas, chegando a valores próximos daqueles que obtivemos por meio do modelo de regressão linear feito from scratch. Notemos que o valor do mse dos dados de validação é consistentemente menor que dos dados de treino. Isso nos indica que o conjunto de dados é, de alguma forma, enviesado e os dados de validação escolhidos acabam sofrendo esse viés."
   ]
  },
  {
   "cell_type": "markdown",
   "id": "83fced46",
   "metadata": {},
   "source": [
    "#### Agora que encontramos valores bons para os hiperparâmetros, vamos testar  a performance do modelo para vários valores de nodes na first layer do modelo, verificando como o resultado se comporta em função da complexidade."
   ]
  },
  {
   "cell_type": "code",
   "execution_count": 81,
   "id": "c1d19f90",
   "metadata": {},
   "outputs": [],
   "source": [
    "unit_values = [2, 4, 8, 16, 32, 64, 128, 256, 512, 1024]"
   ]
  },
  {
   "cell_type": "code",
   "execution_count": 82,
   "id": "5ec0aea6",
   "metadata": {},
   "outputs": [],
   "source": [
    "train_final_mse = {}\n",
    "val_final_mse = {}\n",
    "test_final_mse = {}\n",
    "for first_layer_unit in unit_values:\n",
    "    model = create_model(first_layer_units = first_layer_unit, alpha = hp['alpha'],\n",
    "                     reg_lambda = hp['reg_lambda'], features = features, random_seed = random_state)\n",
    "    train_mse, val_mse = train_model(model, X_train_scaled, y_train_scaled, epochs = hp['epochs'], \n",
    "                                     batch_size = hp['batch_size'], random_seed = random_state)\n",
    "    train_final_mse[first_layer_unit] = train_mse[-1]\n",
    "    val_final_mse[first_layer_unit] = val_mse[-1]\n",
    "    test_eval = test_evaluation(model, X_test_scaled, y_test_scaled, batch_size = hp['batch_size'])\n",
    "    test_final_mse[first_layer_unit] = test_eval[1]"
   ]
  },
  {
   "cell_type": "code",
   "execution_count": 83,
   "id": "f66a308a",
   "metadata": {},
   "outputs": [
    {
     "name": "stdout",
     "output_type": "stream",
     "text": [
      "2:\n",
      "Train final mse: 0.26029977202415466\n",
      "Val final mse: 0.2420169562101364\n",
      "Test final mse: 0.25062817335128784\n",
      "4:\n",
      "Train final mse: 0.47104063630104065\n",
      "Val final mse: 0.4395105838775635\n",
      "Test final mse: 0.4339483380317688\n",
      "8:\n",
      "Train final mse: 0.3998643159866333\n",
      "Val final mse: 0.39232897758483887\n",
      "Test final mse: 0.3954840898513794\n",
      "16:\n",
      "Train final mse: 0.023391373455524445\n",
      "Val final mse: 0.023976217955350876\n",
      "Test final mse: 0.02382403239607811\n",
      "32:\n",
      "Train final mse: 0.017764683812856674\n",
      "Val final mse: 0.01676986739039421\n",
      "Test final mse: 0.017387334257364273\n",
      "64:\n",
      "Train final mse: 0.009591739624738693\n",
      "Val final mse: 0.008299591951072216\n",
      "Test final mse: 0.009205500595271587\n",
      "128:\n",
      "Train final mse: 0.006144384387880564\n",
      "Val final mse: 0.005944975186139345\n",
      "Test final mse: 0.006165798287838697\n",
      "256:\n",
      "Train final mse: 0.004845398012548685\n",
      "Val final mse: 0.003734349040314555\n",
      "Test final mse: 0.0054152547381818295\n",
      "512:\n",
      "Train final mse: 0.006212443578988314\n",
      "Val final mse: 0.00802883692085743\n",
      "Test final mse: 0.009943823330104351\n",
      "1024:\n",
      "Train final mse: 0.008383143693208694\n",
      "Val final mse: 0.004066096153110266\n",
      "Test final mse: 0.0054798247292637825\n"
     ]
    }
   ],
   "source": [
    "for unit in unit_values:\n",
    "    print(f'{unit}:')\n",
    "    print(f'Train final mse: {train_final_mse[unit]}')\n",
    "    print(f'Val final mse: {val_final_mse[unit]}')\n",
    "    print(f'Test final mse: {test_final_mse[unit]}')"
   ]
  },
  {
   "cell_type": "markdown",
   "id": "e53a12d9",
   "metadata": {},
   "source": [
    "Vemos, através desse experimento, fatos curiosos:\n",
    "\n",
    "- O valor do erro final do modelo tende a ser maior se temos um modelo exageradamente complexo, enquanto que modelos não tão complexo, o modelo performa relativamente bem. Isso acontece porque quando aumentamos a complexidade do modelo, ele tende a sofrer overfitting nos dados de treino, perdendo sua capacidade de generalização.\n",
    "\n",
    "- Além disso, o valor \"ótimo\" de units é data-dependent, logo, não conseguimos prever antecipadamente qual dos valores de units será o melhor - apenas sabemos que não deve ser um valor extremamente grande, dado que estamos resolvendo um problema em que a regressão linear se encaixa muito bem devido às altas correlações das features com o target.\n",
    "\n",
    "- Parece que o melhor valor foi 128, em termos de proximidades dos erros e de valores pequenos."
   ]
  },
  {
   "cell_type": "markdown",
   "id": "aa910fcd",
   "metadata": {},
   "source": [
    "#### Note que as correlações entre a variável dependente (target) e as features são de fato elevadas:"
   ]
  },
  {
   "cell_type": "code",
   "execution_count": 84,
   "id": "6a16af62",
   "metadata": {},
   "outputs": [],
   "source": [
    "def reconstruct_data(X, y):\n",
    "    data = X.assign(Chance_of_admit  = y)\n",
    "    data = data.rename(columns = {'Chance_of_admit': 'Chance of Admit'})\n",
    "    return data"
   ]
  },
  {
   "cell_type": "code",
   "execution_count": 85,
   "id": "bfb1b1de",
   "metadata": {},
   "outputs": [],
   "source": [
    "final_data = reconstruct_data(X_train, y_train)"
   ]
  },
  {
   "cell_type": "code",
   "execution_count": 86,
   "id": "a4d63d19",
   "metadata": {
    "scrolled": true
   },
   "outputs": [
    {
     "data": {
      "text/plain": [
       "GRE Score            0.796729\n",
       "CGPA                 0.869127\n",
       "LOR                  0.686924\n",
       "SOP                  0.674721\n",
       "TOEFL Score          0.788699\n",
       "Research             0.517726\n",
       "University Rating    0.713946\n",
       "Chance of Admit      1.000000\n",
       "Name: Chance of Admit, dtype: float64"
      ]
     },
     "execution_count": 86,
     "metadata": {},
     "output_type": "execute_result"
    }
   ],
   "source": [
    "final_data.corr()['Chance of Admit']"
   ]
  },
  {
   "cell_type": "markdown",
   "id": "bb8c9419",
   "metadata": {},
   "source": [
    "### Modelo selecionado"
   ]
  },
  {
   "cell_type": "markdown",
   "id": "11719da6",
   "metadata": {},
   "source": [
    "Para nosso modelo, escolheremos à primeira vista first_layer_units = 128, pois foi um modelo que performou bem e que mostrou poucos sinais de overfitting nos dados de treino com os hiperparâmetros selecionados."
   ]
  },
  {
   "cell_type": "code",
   "execution_count": 87,
   "id": "c79c4326",
   "metadata": {},
   "outputs": [],
   "source": [
    "hp['first_layer_units'] = 128"
   ]
  },
  {
   "cell_type": "code",
   "execution_count": 88,
   "id": "741fcba0",
   "metadata": {},
   "outputs": [
    {
     "data": {
      "text/plain": [
       "{'first_layer_units': 128,\n",
       " 'epochs': 6,\n",
       " 'batch_size': 20,\n",
       " 'alpha': 0.001,\n",
       " 'reg_lambda': 0.1}"
      ]
     },
     "execution_count": 88,
     "metadata": {},
     "output_type": "execute_result"
    }
   ],
   "source": [
    "hp"
   ]
  },
  {
   "cell_type": "code",
   "execution_count": 89,
   "id": "09eb3a30",
   "metadata": {},
   "outputs": [],
   "source": [
    "selected_model = create_model(first_layer_units = hp['first_layer_units'], alpha = hp['alpha'],\n",
    "                     reg_lambda = hp['reg_lambda'], features = features, random_seed = random_state)"
   ]
  },
  {
   "cell_type": "code",
   "execution_count": 90,
   "id": "78ba7651",
   "metadata": {},
   "outputs": [],
   "source": [
    "se_train_mse, se_val_mse = train_model(selected_model, X_train_scaled, y_train_scaled, epochs = hp['epochs'], \n",
    "                                     batch_size = hp['batch_size'], random_seed = random_state)"
   ]
  },
  {
   "cell_type": "code",
   "execution_count": 91,
   "id": "99966311",
   "metadata": {},
   "outputs": [
    {
     "name": "stdout",
     "output_type": "stream",
     "text": [
      "\n",
      "Metrics for our selected linear regression model made with NN in Tensorflow Keras API:\n",
      "\n",
      "Selected model train mse: 0.006144384387880564\n",
      "Selected model val mse: 0.005944975186139345\n",
      "Selected model test mse: 0.006165798287838697\n"
     ]
    }
   ],
   "source": [
    "se_test_eval = test_evaluation(selected_model, X_test_scaled, y_test_scaled, batch_size = hp['batch_size'])\n",
    "print(f'\\nMetrics for our selected linear regression model made with NN in Tensorflow Keras API:\\n')\n",
    "print(f'Selected model train mse: {se_train_mse[-1]}')\n",
    "print(f'Selected model val mse: {se_val_mse[-1]}')\n",
    "print(f'Selected model test mse: {se_test_eval[1]}')"
   ]
  },
  {
   "cell_type": "markdown",
   "id": "53cbb770",
   "metadata": {},
   "source": [
    "#### Agora que temos nosso modelo, vamos analisar novamente se ele não sofre overfitting por meio de outra técnica, agora de cross-validation: K-fold."
   ]
  },
  {
   "cell_type": "code",
   "execution_count": 92,
   "id": "470f2a93",
   "metadata": {
    "scrolled": true
   },
   "outputs": [
    {
     "data": {
      "text/plain": [
       "{'first_layer_units': 128,\n",
       " 'epochs': 6,\n",
       " 'batch_size': 20,\n",
       " 'alpha': 0.001,\n",
       " 'reg_lambda': 0.1}"
      ]
     },
     "execution_count": 92,
     "metadata": {},
     "output_type": "execute_result"
    }
   ],
   "source": [
    "hp"
   ]
  },
  {
   "cell_type": "code",
   "execution_count": 93,
   "id": "0c21665b",
   "metadata": {},
   "outputs": [],
   "source": [
    "def shuffle_data(data, random_state):\n",
    "    '''Shuffles a Pandas Dataframe's data.'''\n",
    "    rand = np.random.RandomState(random_state)\n",
    "    return data.reindex(rand.permutation(data.index))"
   ]
  },
  {
   "cell_type": "code",
   "execution_count": 94,
   "id": "1fc43c3d",
   "metadata": {
    "scrolled": true
   },
   "outputs": [],
   "source": [
    "# KFold: k iterations in which (k-1) splits are for train and 1 for test.\n",
    "def kfold_cross_validation(X = None, y = None, n_splits = 5, hp = {}, shuffle = True, random_state = 0):\n",
    "    # Shuffling to avoid bias\n",
    "    if shuffle:\n",
    "        features = X.columns\n",
    "        label = y.columns\n",
    "        data = reconstruct_data(X, y)\n",
    "        data = shuffle_data(data, random_state)\n",
    "        X_shuffled = data[features]\n",
    "        y_shuffled = data[label]\n",
    "        \n",
    "    kf = KFold(n_splits = n_splits)\n",
    "    k_metrics = []\n",
    "    for train_index, test_index in kf.split(X):\n",
    "        X_train = X_shuffled.iloc[train_index].copy()\n",
    "        y_train = y_shuffled.iloc[train_index].copy()\n",
    "        X_test = X_shuffled.iloc[test_index].copy()\n",
    "        y_test = y_shuffled.iloc[test_index].copy()\n",
    "        \n",
    "        # Scaling data:\n",
    "        X_train_scaled = (X_train - X_train.min())/(X_train.max() - X_train.min())\n",
    "        X_test_scaled = (X_test - X_train.min())/(X_train.max() - X_train.min())\n",
    "        y_train_scaled = (y_train - y_train.min())/(y_train.max() - y_train.min())\n",
    "        y_test_scaled = (y_test - y_train.min())/(y_train.max() - y_train.min())\n",
    "\n",
    "        # Creating selected model:\n",
    "        model = create_model(first_layer_units = hp['first_layer_units'], alpha = hp['alpha'],\n",
    "                                        reg_lambda = hp['reg_lambda'], features = features, \n",
    "                                        random_seed = random_state)\n",
    "        train_mse = train_model(model, X_train_scaled, y_train_scaled, epochs = hp['epochs'], \n",
    "                                  batch_size = hp['batch_size'], random_seed = random_state,\n",
    "                                  validation_split = 0)\n",
    "        test_eval = test_evaluation(model, X_test_scaled, \n",
    "                                       y_test_scaled, batch_size = hp['batch_size'])\n",
    "        metrics_list = [train_mse[-1], test_eval[1]]\n",
    "        k_metrics.append(metrics_list)\n",
    "        \n",
    "    return k_metrics"
   ]
  },
  {
   "cell_type": "code",
   "execution_count": 95,
   "id": "757b8ba2",
   "metadata": {},
   "outputs": [],
   "source": [
    "n_splits = 5\n",
    "k_metrics = kfold_cross_validation(X, y, n_splits = n_splits, shuffle = True,\n",
    "                                   random_state = random_state, hp = hp)"
   ]
  },
  {
   "cell_type": "code",
   "execution_count": 96,
   "id": "4bb4ac08",
   "metadata": {},
   "outputs": [],
   "source": [
    "def print_k_metrics(k_metrics):\n",
    "    k = 0\n",
    "    test_sum = 0\n",
    "    for metrics in k_metrics:\n",
    "        test_sum += metrics[1]\n",
    "        print(f'\\nMetrics for fold {k + 1}:\\n')\n",
    "        print(f'Selected model train mse: {metrics[0]}')\n",
    "        print(f'Selected model test mse: {metrics[1]}')\n",
    "        k += 1\n",
    "    print(f'\\n**** Test Mean Score: {test_sum/len(k_metrics)} ****')"
   ]
  },
  {
   "cell_type": "code",
   "execution_count": 97,
   "id": "1425fd09",
   "metadata": {
    "scrolled": true
   },
   "outputs": [
    {
     "name": "stdout",
     "output_type": "stream",
     "text": [
      "\n",
      "Metrics for fold 1:\n",
      "\n",
      "Selected model train mse: 0.01275707222521305\n",
      "Selected model test mse: 0.015506182797253132\n",
      "\n",
      "Metrics for fold 2:\n",
      "\n",
      "Selected model train mse: 0.0122453011572361\n",
      "Selected model test mse: 0.014873361214995384\n",
      "\n",
      "Metrics for fold 3:\n",
      "\n",
      "Selected model train mse: 0.01345753949135542\n",
      "Selected model test mse: 0.011640009470283985\n",
      "\n",
      "Metrics for fold 4:\n",
      "\n",
      "Selected model train mse: 0.013276060111820698\n",
      "Selected model test mse: 0.01194427628070116\n",
      "\n",
      "Metrics for fold 5:\n",
      "\n",
      "Selected model train mse: 0.013799330219626427\n",
      "Selected model test mse: 0.010588648729026318\n",
      "\n",
      "**** Test Mean Score: 0.012910495698451995 ****\n"
     ]
    }
   ],
   "source": [
    "print_k_metrics(k_metrics)"
   ]
  },
  {
   "cell_type": "markdown",
   "id": "5f9165c1",
   "metadata": {},
   "source": [
    "#### Os resultados do KFold estão mostrando que ainda ainda há um certo grau de overfitting, já que os mse do treino estão relativamente menores nos folds 1 e 2 em relação aos do teste. Então, podemos tentar melhorar esse resultado mudando alguns parâmetros.\n",
    "\n",
    "Podemos tentar:\n",
    "\n",
    "- Reduzir alpha\n",
    "- Reduzir epochs\n",
    "- Reduzir batch_size\n",
    "- Aumentar reg_lambda"
   ]
  },
  {
   "cell_type": "code",
   "execution_count": 98,
   "id": "360aaba5",
   "metadata": {},
   "outputs": [
    {
     "data": {
      "text/plain": [
       "{'first_layer_units': 128,\n",
       " 'epochs': 6,\n",
       " 'batch_size': 20,\n",
       " 'alpha': 0.001,\n",
       " 'reg_lambda': 0.1}"
      ]
     },
     "execution_count": 98,
     "metadata": {},
     "output_type": "execute_result"
    }
   ],
   "source": [
    "hp"
   ]
  },
  {
   "cell_type": "code",
   "execution_count": 99,
   "id": "3367c58a",
   "metadata": {},
   "outputs": [],
   "source": [
    "hp['reg_lambda'] = 0.16\n",
    "hp['batch_size'] = 15\n",
    "hp['alpha'] = 0.001/2\n",
    "hp['epochs'] = 5"
   ]
  },
  {
   "cell_type": "code",
   "execution_count": 100,
   "id": "be32de5e",
   "metadata": {},
   "outputs": [],
   "source": [
    "k_metrics = kfold_cross_validation(X, y, n_splits = n_splits, shuffle = True,\n",
    "                                   random_state = random_state, hp = hp)"
   ]
  },
  {
   "cell_type": "code",
   "execution_count": 101,
   "id": "83d7c917",
   "metadata": {
    "scrolled": true
   },
   "outputs": [
    {
     "name": "stdout",
     "output_type": "stream",
     "text": [
      "\n",
      "Metrics for fold 1:\n",
      "\n",
      "Selected model train mse: 0.013045375235378742\n",
      "Selected model test mse: 0.016246240586042404\n",
      "\n",
      "Metrics for fold 2:\n",
      "\n",
      "Selected model train mse: 0.012733991257846355\n",
      "Selected model test mse: 0.014984766021370888\n",
      "\n",
      "Metrics for fold 3:\n",
      "\n",
      "Selected model train mse: 0.014281059615314007\n",
      "Selected model test mse: 0.011810882948338985\n",
      "\n",
      "Metrics for fold 4:\n",
      "\n",
      "Selected model train mse: 0.014188511297106743\n",
      "Selected model test mse: 0.011891043744981289\n",
      "\n",
      "Metrics for fold 5:\n",
      "\n",
      "Selected model train mse: 0.014526614919304848\n",
      "Selected model test mse: 0.011976012028753757\n",
      "\n",
      "**** Test Mean Score: 0.013381789065897464 ****\n"
     ]
    }
   ],
   "source": [
    "print_k_metrics(k_metrics)"
   ]
  },
  {
   "cell_type": "code",
   "execution_count": 102,
   "id": "285a7cae",
   "metadata": {},
   "outputs": [
    {
     "data": {
      "text/plain": [
       "{'first_layer_units': 128,\n",
       " 'epochs': 5,\n",
       " 'batch_size': 15,\n",
       " 'alpha': 0.0005,\n",
       " 'reg_lambda': 0.16}"
      ]
     },
     "execution_count": 102,
     "metadata": {},
     "output_type": "execute_result"
    }
   ],
   "source": [
    "hp"
   ]
  },
  {
   "cell_type": "markdown",
   "id": "90473ed5",
   "metadata": {},
   "source": [
    "Apesar de tentarmos várias vezes mudar os hiperparâmetros, para o fold 2 não conseguimos aproximar o test mse do train mse. Além disso, há comportamentos anormais em todos os outros folds: os valores do train mse são maiores que do test mse. Isso indica que há viés nos dados, especialmente nesses folds. Uma maneira de tentarmos contornar esse \"problema\" seria aumentar o número de camadas do modelo ou o número de nodes por camada. Podemos também adicionar uma camada de dropout para evitar overfitting com o aumento de complexidade."
   ]
  },
  {
   "cell_type": "code",
   "execution_count": 103,
   "id": "ba26d1da",
   "metadata": {},
   "outputs": [],
   "source": [
    "def create_model(first_layer_units = 32, alpha = 0.1, reg_lambda = 0.1, dropout_rate = 0, features = [], random_seed = 0):\n",
    "    '''Creates a defined model with learning rate = alpha.'''\n",
    "    # Defining Tensorflow's random seed to generate reproducible results.\n",
    "    tf.keras.utils.set_random_seed(random_seed)\n",
    "    tf.config.experimental.enable_op_determinism()\n",
    "    \n",
    "    # We will be using Tensorflow's Sequencial API to build our model.\n",
    "    model = tf.keras.models.Sequential()\n",
    "    \n",
    "    # Adding first layer with input_dim = number of features and relu activation function \n",
    "    # to learn some non-linearities. We will also add L2 regularization in layer's kernel (weights).\n",
    "    model.add(tf.keras.layers.Dense(units = first_layer_units, input_shape = (len(features), ), \n",
    "                                   kernel_regularizer = tf.keras.regularizers.L2(l2 = reg_lambda),\n",
    "                                   activation = 'relu'))\n",
    "    \n",
    "    # Dropout layer\n",
    "    \n",
    "    model.add(tf.keras.layers.Dropout(rate = dropout_rate, seed = random_seed))\n",
    "    \n",
    "    model.add(tf.keras.layers.Dense(units = first_layer_units, input_shape = (len(features), ), \n",
    "                                    kernel_regularizer = tf.keras.regularizers.L2(l2 = reg_lambda)))\n",
    "    \n",
    "    # Adding output layer with linear activation (linear regression output).\n",
    "    \n",
    "    model.add(tf.keras.layers.Dense(units = 1, activation = 'linear'))\n",
    "    \n",
    "    # Compiling model: selecting optimizer, loss and metrics.\n",
    "    \n",
    "    model.compile(optimizer = tf.keras.optimizers.RMSprop(learning_rate = alpha),\n",
    "                 loss = 'mean_squared_error',\n",
    "                 metrics = tf.keras.metrics.MeanSquaredError())\n",
    "    \n",
    "    return model"
   ]
  },
  {
   "cell_type": "code",
   "execution_count": 104,
   "id": "1d8eb4e6",
   "metadata": {},
   "outputs": [],
   "source": [
    "# KFold: k iterations in which (k-1) splits are for train and 1 for test.\n",
    "def kfold_cross_validation(X = None, y = None, n_splits = 5, hp = {}, shuffle = True, random_state = 0):\n",
    "    # Shuffling to avoid bias\n",
    "    if shuffle:\n",
    "        features = X.columns\n",
    "        label = y.columns\n",
    "        data = reconstruct_data(X, y)\n",
    "        data = shuffle_data(data, random_state)\n",
    "        X_shuffled = data[features]\n",
    "        y_shuffled = data[label]\n",
    "        \n",
    "    kf = KFold(n_splits = n_splits)\n",
    "    k_metrics = []\n",
    "    for train_index, test_index in kf.split(X):\n",
    "        X_train = X_shuffled.iloc[train_index].copy()\n",
    "        y_train = y_shuffled.iloc[train_index].copy()\n",
    "        X_test = X_shuffled.iloc[test_index].copy()\n",
    "        y_test = y_shuffled.iloc[test_index].copy()\n",
    "        \n",
    "        # Scaling data:\n",
    "        X_train_scaled = (X_train - X_train.min())/(X_train.max() - X_train.min())\n",
    "        X_test_scaled = (X_test - X_train.min())/(X_train.max() - X_train.min())\n",
    "        y_train_scaled = (y_train - y_train.min())/(y_train.max() - y_train.min())\n",
    "        y_test_scaled = (y_test - y_train.min())/(y_train.max() - y_train.min())\n",
    "\n",
    "        # Creating selected model:\n",
    "        model = create_model(first_layer_units = hp['first_layer_units'], alpha = hp['alpha'],\n",
    "                                        reg_lambda = hp['reg_lambda'], features = features, \n",
    "                                        random_seed = random_state, dropout_rate = hp['dropout_rate'])\n",
    "        train_mse = train_model(model, X_train_scaled, y_train_scaled, epochs = hp['epochs'], \n",
    "                                  batch_size = hp['batch_size'], random_seed = random_state,\n",
    "                                  validation_split = 0)\n",
    "        test_eval = test_evaluation(model, X_test_scaled, \n",
    "                                       y_test_scaled, batch_size = hp['batch_size'])\n",
    "        metrics_list = [train_mse[-1], test_eval[1]]\n",
    "        k_metrics.append(metrics_list)\n",
    "        \n",
    "    return k_metrics"
   ]
  },
  {
   "cell_type": "code",
   "execution_count": 105,
   "id": "b624d910",
   "metadata": {},
   "outputs": [],
   "source": [
    "hp['reg_lambda'] = 0.16\n",
    "hp['batch_size'] = 15\n",
    "hp['alpha'] = 0.001/2\n",
    "hp['epochs'] = 5\n",
    "hp['dropout_rate'] = 0.1"
   ]
  },
  {
   "cell_type": "code",
   "execution_count": 106,
   "id": "71250185",
   "metadata": {},
   "outputs": [
    {
     "data": {
      "text/plain": [
       "{'first_layer_units': 128,\n",
       " 'epochs': 5,\n",
       " 'batch_size': 15,\n",
       " 'alpha': 0.0005,\n",
       " 'reg_lambda': 0.16,\n",
       " 'dropout_rate': 0.1}"
      ]
     },
     "execution_count": 106,
     "metadata": {},
     "output_type": "execute_result"
    }
   ],
   "source": [
    "hp"
   ]
  },
  {
   "cell_type": "code",
   "execution_count": 107,
   "id": "465c2bf3",
   "metadata": {},
   "outputs": [],
   "source": [
    "k_metrics = kfold_cross_validation(X, y, n_splits = n_splits, shuffle = True,\n",
    "                                   random_state = random_state, hp = hp)"
   ]
  },
  {
   "cell_type": "code",
   "execution_count": 108,
   "id": "b9f786f9",
   "metadata": {},
   "outputs": [
    {
     "name": "stdout",
     "output_type": "stream",
     "text": [
      "\n",
      "Metrics for fold 1:\n",
      "\n",
      "Selected model train mse: 0.021471235901117325\n",
      "Selected model test mse: 0.026440318673849106\n",
      "\n",
      "Metrics for fold 2:\n",
      "\n",
      "Selected model train mse: 0.01971467211842537\n",
      "Selected model test mse: 0.020504865795373917\n",
      "\n",
      "Metrics for fold 3:\n",
      "\n",
      "Selected model train mse: 0.020964384078979492\n",
      "Selected model test mse: 0.017991364002227783\n",
      "\n",
      "Metrics for fold 4:\n",
      "\n",
      "Selected model train mse: 0.020863395184278488\n",
      "Selected model test mse: 0.02104329690337181\n",
      "\n",
      "Metrics for fold 5:\n",
      "\n",
      "Selected model train mse: 0.022006070241332054\n",
      "Selected model test mse: 0.01769275777041912\n",
      "\n",
      "**** Test Mean Score: 0.020734520629048347 ****\n"
     ]
    }
   ],
   "source": [
    "print_k_metrics(k_metrics)"
   ]
  },
  {
   "cell_type": "markdown",
   "id": "d6f01288",
   "metadata": {},
   "source": [
    "- Note que adicionar novas camadas ao modelo, mesmo que ajustemos alguns parâmetros, aumentou o erro obtido e ainda não auxiliou na diminuição da diferença entre os mse de treino e de teste de forma tão satisfatória, pois o fold 1 ficou agora com uma grande diferença. Isso indica mais ainda que, em determinados folds, há, de fato, dados enviesados, mesmo que tenhamos embaralhado anteriormente o dataset. \n",
    "\n",
    "- O ideal nesse caso era termos mais dados para conseguirmos, com sorte, um modelo melhor. Em geral, o KFold não é uma boa forma de cross-validation para quando temos poucos dados.\n",
    "\n",
    "- Nesse dataset em específico, aparentemente o modelo mais simples performou melhor, apesar dos comportamentos incomuns quanto aos erros."
   ]
  },
  {
   "cell_type": "markdown",
   "id": "51284b35",
   "metadata": {},
   "source": [
    "## Análise final "
   ]
  },
  {
   "cell_type": "markdown",
   "id": "62c020bf",
   "metadata": {},
   "source": [
    "A última pergunta que fica é: se nenhum dos modelos mais complexos performou melhor, será que o modelo mais simples de regressão linear é suficiente para gerar um bom resultado? Vamos testar."
   ]
  },
  {
   "cell_type": "code",
   "execution_count": 109,
   "id": "408bf59c",
   "metadata": {},
   "outputs": [],
   "source": [
    "def create_simple_model(alpha = 0.1, features = [], random_seed = 0):\n",
    "    '''Creates the simplest linear regression model.'''\n",
    "    tf.keras.utils.set_random_seed(random_seed)\n",
    "    tf.config.experimental.enable_op_determinism()\n",
    "    \n",
    "    model = tf.keras.models.Sequential()\n",
    "    \n",
    "    model.add(tf.keras.layers.Dense(units = 1, input_dim = len(features)))\n",
    "    \n",
    "    model.compile(optimizer = tf.keras.optimizers.RMSprop(learning_rate = alpha),\n",
    "                 loss = 'mean_squared_error',\n",
    "                 metrics = tf.keras.metrics.MeanSquaredError())\n",
    "    return model"
   ]
  },
  {
   "cell_type": "code",
   "execution_count": 110,
   "id": "f8344ae9",
   "metadata": {},
   "outputs": [],
   "source": [
    "def kfold_cv_simple_model(X = None, y = None, n_splits = 5, hp = {}, shuffle = True, random_state = 0):\n",
    "    # Shuffling to avoid bias\n",
    "    if shuffle:\n",
    "        features = X.columns\n",
    "        label = y.columns\n",
    "        data = reconstruct_data(X, y)\n",
    "        data = shuffle_data(data, random_state)\n",
    "        X_shuffled = data[features]\n",
    "        y_shuffled = data[label]\n",
    "        \n",
    "    kf = KFold(n_splits = n_splits)\n",
    "    k_metrics = []\n",
    "    for train_index, test_index in kf.split(X):\n",
    "        X_train = X_shuffled.iloc[train_index].copy()\n",
    "        y_train = y_shuffled.iloc[train_index].copy()\n",
    "        X_test = X_shuffled.iloc[test_index].copy()\n",
    "        y_test = y_shuffled.iloc[test_index].copy()\n",
    "        \n",
    "        # Scaling data:\n",
    "        X_train_scaled = (X_train - X_train.min())/(X_train.max() - X_train.min())\n",
    "        X_test_scaled = (X_test - X_train.min())/(X_train.max() - X_train.min())\n",
    "        y_train_scaled = (y_train - y_train.min())/(y_train.max() - y_train.min())\n",
    "        y_test_scaled = (y_test - y_train.min())/(y_train.max() - y_train.min())\n",
    "\n",
    "        model = create_simple_model(alpha = hp['alpha'], features = features, \n",
    "                                    random_seed = random_state)\n",
    "        train_mse = train_model(model, X_train_scaled, y_train_scaled, epochs = hp['epochs'], \n",
    "                                batch_size = hp['batch_size'], random_seed = random_state,\n",
    "                                validation_split = 0)\n",
    "        test_eval = test_evaluation(model, X_test_scaled, y_test_scaled, \n",
    "                                    batch_size = hp['batch_size'])\n",
    "        metrics_list = [train_mse[-1], test_eval[1]]\n",
    "        k_metrics.append(metrics_list)\n",
    "        \n",
    "    return k_metrics"
   ]
  },
  {
   "cell_type": "code",
   "execution_count": 111,
   "id": "b758ce85",
   "metadata": {},
   "outputs": [],
   "source": [
    "hp['first_layer_units'] = 0\n",
    "hp['epochs'] = 100\n",
    "hp['batch_size'] = 5\n",
    "hp['alpha'] = 0.002\n",
    "hp['reg_lambda'] = 0\n",
    "hp['dropout_rate'] = 0"
   ]
  },
  {
   "cell_type": "code",
   "execution_count": 112,
   "id": "a4affd05",
   "metadata": {},
   "outputs": [],
   "source": [
    "simple_model_k_metrics = kfold_cv_simple_model(X, y, n_splits = n_splits, \n",
    "                                               hp = hp, shuffle = True, random_state = random_state)"
   ]
  },
  {
   "cell_type": "code",
   "execution_count": 113,
   "id": "78c9388e",
   "metadata": {},
   "outputs": [
    {
     "name": "stdout",
     "output_type": "stream",
     "text": [
      "\n",
      "Metrics for fold 1:\n",
      "\n",
      "Selected model train mse: 0.010218260809779167\n",
      "Selected model test mse: 0.010716253891587257\n",
      "\n",
      "Metrics for fold 2:\n",
      "\n",
      "Selected model train mse: 0.010047459974884987\n",
      "Selected model test mse: 0.011491784825921059\n",
      "\n",
      "Metrics for fold 3:\n",
      "\n",
      "Selected model train mse: 0.010159764438867569\n",
      "Selected model test mse: 0.011272951029241085\n",
      "\n",
      "Metrics for fold 4:\n",
      "\n",
      "Selected model train mse: 0.010268914513289928\n",
      "Selected model test mse: 0.010538071393966675\n",
      "\n",
      "Metrics for fold 5:\n",
      "\n",
      "Selected model train mse: 0.010675905272364616\n",
      "Selected model test mse: 0.008861816488206387\n",
      "\n",
      "**** Test Mean Score: 0.010576175525784492 ****\n"
     ]
    }
   ],
   "source": [
    "print_k_metrics(simple_model_k_metrics)"
   ]
  },
  {
   "cell_type": "markdown",
   "id": "cd179b0f",
   "metadata": {},
   "source": [
    "A resposta é sim, conseguimos um resultado satisfatório para o problema e inclusive melhor que todos os outros modelos!"
   ]
  },
  {
   "cell_type": "markdown",
   "id": "b898a8ad",
   "metadata": {},
   "source": [
    "Um modelo mais simples de regressão linear conseguiu um fit melhor nesse caso. Podemos supor dois motivos:\n",
    "\n",
    "- A alta correlação das features com o target fazem com que o modelo linear se adapte muito bem aos dados.\n",
    "\n",
    "- A chance de overfitting aumenta quanto mais aumentamos a complexidade do modelo, gerando, assim, resultados piores nos dados de treino. Além disso, torna-se mais difícil de tunar os hiperparâmetros do modelo quando ele é muito complexo."
   ]
  },
  {
   "cell_type": "markdown",
   "id": "3f952705",
   "metadata": {},
   "source": [
    "Para mostrarmos que nosso modelo funciona, também podemos testar o modelo de validação train-validation-test:"
   ]
  },
  {
   "cell_type": "code",
   "execution_count": 114,
   "id": "6108a212",
   "metadata": {},
   "outputs": [],
   "source": [
    "simple_model = create_simple_model(alpha = hp['alpha'], features = features, \n",
    "                                    random_seed = random_state)"
   ]
  },
  {
   "cell_type": "code",
   "execution_count": 115,
   "id": "c5d3b8e6",
   "metadata": {},
   "outputs": [],
   "source": [
    "train_mse, val_mse = train_model(simple_model, X_train_scaled, y_train_scaled, epochs = 100, validation_split = 0.2)"
   ]
  },
  {
   "cell_type": "code",
   "execution_count": 116,
   "id": "1e4236ba",
   "metadata": {},
   "outputs": [
    {
     "name": "stdout",
     "output_type": "stream",
     "text": [
      "0.00431461026892066 0.003626079997047782\n"
     ]
    }
   ],
   "source": [
    "print(train_mse[-1], val_mse[-1])"
   ]
  },
  {
   "cell_type": "code",
   "execution_count": 117,
   "id": "968cfe78",
   "metadata": {},
   "outputs": [
    {
     "data": {
      "text/plain": [
       "0.004429029766470194"
      ]
     },
     "execution_count": 117,
     "metadata": {},
     "output_type": "execute_result"
    }
   ],
   "source": [
    "test_evaluation(simple_model, X_test_scaled, y_test_scaled, batch_size = hp['batch_size'])[1]"
   ]
  },
  {
   "cell_type": "markdown",
   "id": "669cb236",
   "metadata": {},
   "source": [
    "Sim! O modelo performou muito bem nos dados de treino, estando longe do overfitting e apresentando um erro bem menor que nosso primeiro modelo (note que poderíamos diminuir o erro do primeiro modelo se aumentássemos o número de epochs, mas mesmo assim é difícil diminuir o erro tanto quanto conseguimos com o modelo mais simples). O erro menor nos dados de validação se deve a uma certa coincidência devido à distribuição dos dados."
   ]
  },
  {
   "cell_type": "markdown",
   "id": "2018b6b2",
   "metadata": {},
   "source": [
    "Para terminar, vamos plotar em um gráfico os erros do treino e do teste nesse caso. Para isso, temos que adaptar as funções train_model para nos retornar as epochs:"
   ]
  },
  {
   "cell_type": "code",
   "execution_count": 118,
   "id": "9b50612a",
   "metadata": {},
   "outputs": [],
   "source": [
    "def train_model_with_epochs(model = None, X_train = None, y_train = None, epochs = 10,\n",
    "               batch_size = 10, validation_split = 0.3,\n",
    "               random_seed = 0):\n",
    "    tf.keras.utils.set_random_seed(random_seed)\n",
    "    tf.config.experimental.enable_op_determinism()\n",
    "    history = model.fit(x = X_train, y = y_train, batch_size = batch_size,\n",
    "         epochs = epochs, shuffle = False, \n",
    "         validation_split = validation_split, verbose = 0)\n",
    "    \n",
    "    hist = pd.DataFrame(history.history)\n",
    "    train_mse = np.array(hist['mean_squared_error'])\n",
    "    epochs = np.array(hist.index) + 1\n",
    "    if validation_split != 0:\n",
    "        val_mse = np.array(hist['val_mean_squared_error'])\n",
    "        return train_mse, val_mse, epochs # adding epochs\n",
    "    return train_mse, epochs # adding epochs"
   ]
  },
  {
   "cell_type": "code",
   "execution_count": 119,
   "id": "d037bc73",
   "metadata": {},
   "outputs": [],
   "source": [
    "simple_model = create_simple_model(alpha = hp['alpha'], features = features, \n",
    "                                    random_seed = random_state)"
   ]
  },
  {
   "cell_type": "code",
   "execution_count": 120,
   "id": "564e5879",
   "metadata": {},
   "outputs": [],
   "source": [
    "train_mse, val_mse, epochs = train_model_with_epochs(simple_model, X_train_scaled, y_train_scaled, \n",
    "                                     epochs = hp['epochs'], validation_split = 0.2)"
   ]
  },
  {
   "cell_type": "code",
   "execution_count": 121,
   "id": "fd2a2df7",
   "metadata": {},
   "outputs": [],
   "source": [
    "def plot_simple_model_errors(X_test, y_test, hp, random_state):\n",
    "    features = X_test.columns\n",
    "    simple_model = create_simple_model(alpha = hp['alpha'], features = features, \n",
    "                                    random_seed = random_state)\n",
    "    train_mse, val_mse, epochs = train_model_with_epochs(simple_model, X_train_scaled, y_train_scaled, \n",
    "                                     epochs = hp['epochs'], validation_split = 0.2)\n",
    "    test_eval = test_evaluation(simple_model, X_test, y_test, batch_size = hp['batch_size'])\n",
    "    test_mse = [test_eval for i in epochs]\n",
    "    plt.plot(epochs, train_mse, color = 'blue')\n",
    "    plt.plot(epochs, val_mse, color = 'green')\n",
    "    plt.plot(epochs, test_mse, color = 'red', linestyle = '--')\n",
    "    plt.title('Simple Model Errors')\n",
    "    plt.xlabel('epoch')\n",
    "    plt.ylabel('mse')\n",
    "    plt.legend(['Train MSE', 'Validation MSE', 'Final Test MSE Line'])"
   ]
  },
  {
   "cell_type": "code",
   "execution_count": 122,
   "id": "5e1494ab",
   "metadata": {
    "scrolled": true
   },
   "outputs": [
    {
     "data": {
      "image/png": "[encoded data removed]",
      "text/plain": [
       "<Figure size 432x288 with 1 Axes>"
      ]
     },
     "metadata": {
      "needs_background": "light"
     },
     "output_type": "display_data"
    }
   ],
   "source": [
    "plot_simple_model_errors(X_test_scaled, y_test_scaled, hp, random_state)"
   ]
  }
 ],
 "metadata": {
  "kernelspec": {
   "display_name": "Python 3 (ipykernel)",
   "language": "python",
   "name": "python3"
  },
  "language_info": {
   "codemirror_mode": {
    "name": "ipython",
    "version": 3
   },
   "file_extension": ".py",
   "mimetype": "text/x-python",
   "name": "python",
   "nbconvert_exporter": "python",
   "pygments_lexer": "ipython3",
   "version": "3.9.7"
  }
 },
 "nbformat": 4,
 "nbformat_minor": 5
}
